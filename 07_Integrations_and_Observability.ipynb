{
 "cells": [
  {
   "cell_type": "markdown",
   "id": "0aaff72d",
   "metadata": {},
   "source": [
    "# Integration and Observability\n",
    "\n",
    "\n",
    "Please read the full article at [thedataguy.pro](https://thedataguy.pro/blog/ntegrations-and-observability-with-ragas/).\n"
   ]
  },
  {
   "cell_type": "code",
   "execution_count": 3,
   "id": "f2ecd036",
   "metadata": {},
   "outputs": [],
   "source": [
    "import os\n",
    "import getpass\n",
    "\n",
    "os.environ[\"OPENAI_API_KEY\"] = getpass.getpass(\"OpenAI API Key:\")"
   ]
  },
  {
   "cell_type": "code",
   "execution_count": 4,
   "id": "4f67fa88",
   "metadata": {},
   "outputs": [],
   "source": [
    "import nest_asyncio\n",
    "nest_asyncio.apply()"
   ]
  },
  {
   "cell_type": "code",
   "execution_count": 6,
   "id": "6240f904",
   "metadata": {},
   "outputs": [],
   "source": [
    "from langchain.chains import RetrievalQA\n",
    "from langchain_openai import ChatOpenAI\n",
    "from langchain.embeddings import OpenAIEmbeddings\n",
    "from langchain.vectorstores import FAISS\n",
    "from langchain.document_loaders import DirectoryLoader\n",
    "from langchain.text_splitter import RecursiveCharacterTextSplitter\n",
    "\n",
    "from ragas.evaluation import evaluate\n",
    "from ragas.metrics import faithfulness, answer_relevancy, context_precision, context_recall\n",
    "\n"
   ]
  },
  {
   "cell_type": "code",
   "execution_count": 7,
   "id": "967ab810",
   "metadata": {},
   "outputs": [],
   "source": [
    "\n",
    "# Load all markdown files from the data directory\n",
    "loader = DirectoryLoader(\"data/\", glob=\"**/*.md\")\n",
    "documents = loader.load()\n",
    "text_splitter = RecursiveCharacterTextSplitter(chunk_size=1000, chunk_overlap=100)\n",
    "splits = text_splitter.split_documents(documents)\n"
   ]
  },
  {
   "cell_type": "code",
   "execution_count": 8,
   "id": "6196fdf2",
   "metadata": {},
   "outputs": [],
   "source": [
    "# Create vector store and retriever\n",
    "embeddings = OpenAIEmbeddings()\n",
    "vectorstore = FAISS.from_documents(splits, embeddings)\n",
    "retriever = vectorstore.as_retriever(search_kwargs={\"k\": 4})\n",
    "\n",
    "# Create QA chain\n",
    "llm = ChatOpenAI(model=\"gpt-4o\", temperature=0)\n",
    "qa_chain = RetrievalQA.from_chain_type(\n",
    "    llm=llm,\n",
    "    chain_type=\"stuff\",\n",
    "    retriever=retriever\n",
    ")\n",
    "\n"
   ]
  },
  {
   "cell_type": "code",
   "execution_count": 14,
   "id": "bfabee0f",
   "metadata": {},
   "outputs": [
    {
     "data": {
      "application/vnd.jupyter.widget-view+json": {
       "model_id": "a50cdf0834fa4960b1b0b74b02254e4c",
       "version_major": 2,
       "version_minor": 0
      },
      "text/plain": [
       "Applying SummaryExtractor:   0%|          | 0/10 [00:00<?, ?it/s]"
      ]
     },
     "metadata": {},
     "output_type": "display_data"
    },
    {
     "data": {
      "application/vnd.jupyter.widget-view+json": {
       "model_id": "09915436371b400e8aafa2cd70da2ddf",
       "version_major": 2,
       "version_minor": 0
      },
      "text/plain": [
       "Applying CustomNodeFilter:   0%|          | 0/14 [00:00<?, ?it/s]"
      ]
     },
     "metadata": {},
     "output_type": "display_data"
    },
    {
     "name": "stderr",
     "output_type": "stream",
     "text": [
      "Node de498378-a3a6-434e-a7e4-6e2a31c5e936 does not have a summary. Skipping filtering.\n",
      "Node 0d39de02-5eb4-42ca-875d-f7dba1ab8574 does not have a summary. Skipping filtering.\n",
      "Node dbd3ea6c-70ad-45a9-8f17-6bca1e6ec8ff does not have a summary. Skipping filtering.\n",
      "Node b6319057-6b1c-4775-b7b0-f5459cbb3f2b does not have a summary. Skipping filtering.\n"
     ]
    },
    {
     "data": {
      "application/vnd.jupyter.widget-view+json": {
       "model_id": "adb245c5eb47429ab6bf3624d58c842a",
       "version_major": 2,
       "version_minor": 0
      },
      "text/plain": [
       "Applying [EmbeddingExtractor, ThemesExtractor, NERExtractor]:   0%|          | 0/38 [00:00<?, ?it/s]"
      ]
     },
     "metadata": {},
     "output_type": "display_data"
    },
    {
     "data": {
      "application/vnd.jupyter.widget-view+json": {
       "model_id": "091adc0fe2e24eb0814b8a5370f9614b",
       "version_major": 2,
       "version_minor": 0
      },
      "text/plain": [
       "Applying OverlapScoreBuilder:   0%|          | 0/1 [00:00<?, ?it/s]"
      ]
     },
     "metadata": {},
     "output_type": "display_data"
    },
    {
     "data": {
      "application/vnd.jupyter.widget-view+json": {
       "model_id": "b185efc5509f4fd58d2feb23014baa35",
       "version_major": 2,
       "version_minor": 0
      },
      "text/plain": [
       "Generating personas:   0%|          | 0/3 [00:00<?, ?it/s]"
      ]
     },
     "metadata": {},
     "output_type": "display_data"
    },
    {
     "data": {
      "application/vnd.jupyter.widget-view+json": {
       "model_id": "b9fdd8bb4d7b459da3e13f4064c796d6",
       "version_major": 2,
       "version_minor": 0
      },
      "text/plain": [
       "Generating Scenarios:   0%|          | 0/2 [00:00<?, ?it/s]"
      ]
     },
     "metadata": {},
     "output_type": "display_data"
    },
    {
     "data": {
      "application/vnd.jupyter.widget-view+json": {
       "model_id": "f57b606f0729412d9e950eb518ab4ac1",
       "version_major": 2,
       "version_minor": 0
      },
      "text/plain": [
       "Generating Samples:   0%|          | 0/10 [00:00<?, ?it/s]"
      ]
     },
     "metadata": {},
     "output_type": "display_data"
    }
   ],
   "source": [
    "# Generate test questions (or use your own)\n",
    "from ragas.llms import LangchainLLMWrapper\n",
    "from ragas.embeddings import LangchainEmbeddingsWrapper\n",
    "from ragas.testset import TestsetGenerator\n",
    "generator_llm = LangchainLLMWrapper(llm)\n",
    "generator_embeddings = LangchainEmbeddingsWrapper(embeddings)\n",
    "generator = TestsetGenerator(llm=generator_llm, embedding_model=generator_embeddings)\n",
    "dataset = generator.generate_with_langchain_docs(splits, testset_size=10)\n"
   ]
  },
  {
   "cell_type": "code",
   "execution_count": 15,
   "id": "4352d06f",
   "metadata": {},
   "outputs": [
    {
     "data": {
      "text/html": [
       "<div>\n",
       "<style scoped>\n",
       "    .dataframe tbody tr th:only-of-type {\n",
       "        vertical-align: middle;\n",
       "    }\n",
       "\n",
       "    .dataframe tbody tr th {\n",
       "        vertical-align: top;\n",
       "    }\n",
       "\n",
       "    .dataframe thead th {\n",
       "        text-align: right;\n",
       "    }\n",
       "</style>\n",
       "<table border=\"1\" class=\"dataframe\">\n",
       "  <thead>\n",
       "    <tr style=\"text-align: right;\">\n",
       "      <th></th>\n",
       "      <th>user_input</th>\n",
       "      <th>reference_contexts</th>\n",
       "      <th>reference</th>\n",
       "      <th>synthesizer_name</th>\n",
       "    </tr>\n",
       "  </thead>\n",
       "  <tbody>\n",
       "    <tr>\n",
       "      <th>0</th>\n",
       "      <td>what new in version 10.0.23?</td>\n",
       "      <td>[title: Platform updates for version 10.0.23 o...</td>\n",
       "      <td>The platform updates for version 10.0.23 of fi...</td>\n",
       "      <td>single_hop_specifc_query_synthesizer</td>\n",
       "    </tr>\n",
       "    <tr>\n",
       "      <th>1</th>\n",
       "      <td>What happen in January 2022?</td>\n",
       "      <td>[General availability of release (auto-update)...</td>\n",
       "      <td>General availability of release (auto-update):...</td>\n",
       "      <td>single_hop_specifc_query_synthesizer</td>\n",
       "    </tr>\n",
       "    <tr>\n",
       "      <th>2</th>\n",
       "      <td>how do i find bug fixes in microsoft dynamics ...</td>\n",
       "      <td>[Bug fixes\\n\\nFor information about the bug fi...</td>\n",
       "      <td>To find information about bug fixes, sign in t...</td>\n",
       "      <td>single_hop_specifc_query_synthesizer</td>\n",
       "    </tr>\n",
       "    <tr>\n",
       "      <th>3</th>\n",
       "      <td>When was the preview release of version 10.0.2...</td>\n",
       "      <td>[title: Platform updates for version 10.0.22 o...</td>\n",
       "      <td>The preview release of version 10.0.22 of the ...</td>\n",
       "      <td>single_hop_specifc_query_synthesizer</td>\n",
       "    </tr>\n",
       "    <tr>\n",
       "      <th>4</th>\n",
       "      <td>When was the general availability of the release?</td>\n",
       "      <td>[General availability of release (auto-update)...</td>\n",
       "      <td>The general availability of the release was in...</td>\n",
       "      <td>single_hop_specifc_query_synthesizer</td>\n",
       "    </tr>\n",
       "    <tr>\n",
       "      <th>5</th>\n",
       "      <td>Wht r the diffrnces in the global availbility ...</td>\n",
       "      <td>[&lt;1-hop&gt;\\n\\ntitle: Platform updates for versio...</td>\n",
       "      <td>The global availability schedule for version 1...</td>\n",
       "      <td>multi_hop_specific_query_synthesizer</td>\n",
       "    </tr>\n",
       "    <tr>\n",
       "      <th>6</th>\n",
       "      <td>How does the upgrade to release 10.0.22 enhanc...</td>\n",
       "      <td>[&lt;1-hop&gt;\\n\\nan environment is upgraded to rele...</td>\n",
       "      <td>The upgrade to release 10.0.22 enhances Power ...</td>\n",
       "      <td>multi_hop_specific_query_synthesizer</td>\n",
       "    </tr>\n",
       "    <tr>\n",
       "      <th>7</th>\n",
       "      <td>What were the key features introduced in the J...</td>\n",
       "      <td>[&lt;1-hop&gt;\\n\\nGeneral availability of release (a...</td>\n",
       "      <td>In the January 2022 general availability relea...</td>\n",
       "      <td>multi_hop_specific_query_synthesizer</td>\n",
       "    </tr>\n",
       "    <tr>\n",
       "      <th>8</th>\n",
       "      <td>How does the integration of Microsoft Power Au...</td>\n",
       "      <td>[&lt;1-hop&gt;\\n\\ncan be integrated with any automat...</td>\n",
       "      <td>The integration of Microsoft Power Automate wi...</td>\n",
       "      <td>multi_hop_specific_query_synthesizer</td>\n",
       "    </tr>\n",
       "    <tr>\n",
       "      <th>9</th>\n",
       "      <td>What are the key features and deprecations inc...</td>\n",
       "      <td>[&lt;1-hop&gt;\\n\\nCheck out the Dynamics 365 and ind...</td>\n",
       "      <td>The Dynamics 365 and industry clouds: 2021 rel...</td>\n",
       "      <td>multi_hop_specific_query_synthesizer</td>\n",
       "    </tr>\n",
       "  </tbody>\n",
       "</table>\n",
       "</div>"
      ],
      "text/plain": [
       "                                          user_input  ...                      synthesizer_name\n",
       "0                       what new in version 10.0.23?  ...  single_hop_specifc_query_synthesizer\n",
       "1                       What happen in January 2022?  ...  single_hop_specifc_query_synthesizer\n",
       "2  how do i find bug fixes in microsoft dynamics ...  ...  single_hop_specifc_query_synthesizer\n",
       "3  When was the preview release of version 10.0.2...  ...  single_hop_specifc_query_synthesizer\n",
       "4  When was the general availability of the release?  ...  single_hop_specifc_query_synthesizer\n",
       "5  Wht r the diffrnces in the global availbility ...  ...  multi_hop_specific_query_synthesizer\n",
       "6  How does the upgrade to release 10.0.22 enhanc...  ...  multi_hop_specific_query_synthesizer\n",
       "7  What were the key features introduced in the J...  ...  multi_hop_specific_query_synthesizer\n",
       "8  How does the integration of Microsoft Power Au...  ...  multi_hop_specific_query_synthesizer\n",
       "9  What are the key features and deprecations inc...  ...  multi_hop_specific_query_synthesizer\n",
       "\n",
       "[10 rows x 4 columns]"
      ]
     },
     "execution_count": 15,
     "metadata": {},
     "output_type": "execute_result"
    }
   ],
   "source": [
    "dataset.to_pandas()"
   ]
  },
  {
   "cell_type": "markdown",
   "id": "b951cfc2",
   "metadata": {},
   "source": [
    "## Build RAG Graph\n"
   ]
  },
  {
   "cell_type": "code",
   "execution_count": 20,
   "id": "1c5569d3",
   "metadata": {},
   "outputs": [],
   "source": [
    "from langchain.prompts import ChatPromptTemplate\n",
    "\n",
    "RAG_PROMPT = \"\"\"\\\n",
    "You are a helpful assistant who answers questions based on provided context. You must only use the provided context, and cannot use your own knowledge.\n",
    "\n",
    "### Question\n",
    "{question}\n",
    "\n",
    "### Context\n",
    "{context}\n",
    "\"\"\"\n",
    "\n",
    "rag_prompt = ChatPromptTemplate.from_template(RAG_PROMPT)\n",
    "\n",
    "\n",
    "def retrieve(state):\n",
    "  retrieved_docs = retriever.invoke(state[\"question\"])\n",
    "  return {\"context\" : retrieved_docs}\n",
    "\n",
    "\n",
    "def generate(state):\n",
    "  docs_content = \"\\n\\n\".join(doc.page_content for doc in state[\"context\"])\n",
    "  messages = rag_prompt.format_messages(question=state[\"question\"], context=docs_content)\n",
    "  response = llm.invoke(messages)\n",
    "  return {\"response\" : response.content}\n",
    "\n",
    "\n",
    "from langgraph.graph import START, StateGraph\n",
    "from typing_extensions import List, TypedDict\n",
    "from langchain_core.documents import Document\n",
    "\n",
    "class State(TypedDict):\n",
    "  question: str\n",
    "  context: List[Document]\n",
    "  response: str\n",
    "\n",
    "\n",
    "\n",
    "graph_builder = StateGraph(State).add_sequence([retrieve, generate])\n",
    "graph_builder.add_edge(START, \"retrieve\")\n",
    "graph = graph_builder.compile()\n",
    "\n"
   ]
  },
  {
   "cell_type": "code",
   "execution_count": 22,
   "id": "4e422407",
   "metadata": {},
   "outputs": [
    {
     "data": {
      "image/png": "[encoded data removed]",
      "text/plain": [
       "<IPython.core.display.Image object>"
      ]
     },
     "metadata": {},
     "output_type": "display_data"
    }
   ],
   "source": [
    "from IPython.display import Image\n",
    "\n",
    "# visualize the graph\n",
    "display(Image(graph.get_graph(xray=True).draw_mermaid_png()))"
   ]
  },
  {
   "cell_type": "code",
   "execution_count": 23,
   "id": "2965ebd4",
   "metadata": {},
   "outputs": [],
   "source": [
    "# Execute RAG pipeline\n",
    "for test_row in dataset:\n",
    "  response = graph.invoke({\"question\" : test_row.eval_sample.user_input})\n",
    "  test_row.eval_sample.response = response[\"response\"]\n",
    "  test_row.eval_sample.retrieved_contexts = [context.page_content for context in response[\"context\"]]"
   ]
  },
  {
   "cell_type": "code",
   "execution_count": 24,
   "id": "aef11693",
   "metadata": {},
   "outputs": [
    {
     "data": {
      "text/html": [
       "<div>\n",
       "<style scoped>\n",
       "    .dataframe tbody tr th:only-of-type {\n",
       "        vertical-align: middle;\n",
       "    }\n",
       "\n",
       "    .dataframe tbody tr th {\n",
       "        vertical-align: top;\n",
       "    }\n",
       "\n",
       "    .dataframe thead th {\n",
       "        text-align: right;\n",
       "    }\n",
       "</style>\n",
       "<table border=\"1\" class=\"dataframe\">\n",
       "  <thead>\n",
       "    <tr style=\"text-align: right;\">\n",
       "      <th></th>\n",
       "      <th>user_input</th>\n",
       "      <th>retrieved_contexts</th>\n",
       "      <th>reference_contexts</th>\n",
       "      <th>response</th>\n",
       "      <th>reference</th>\n",
       "      <th>synthesizer_name</th>\n",
       "    </tr>\n",
       "  </thead>\n",
       "  <tbody>\n",
       "    <tr>\n",
       "      <th>0</th>\n",
       "      <td>what new in version 10.0.23?</td>\n",
       "      <td>[title: Platform updates for version 10.0.23 o...</td>\n",
       "      <td>[title: Platform updates for version 10.0.23 o...</td>\n",
       "      <td>The context provided does not include specific...</td>\n",
       "      <td>The platform updates for version 10.0.23 of fi...</td>\n",
       "      <td>single_hop_specifc_query_synthesizer</td>\n",
       "    </tr>\n",
       "    <tr>\n",
       "      <th>1</th>\n",
       "      <td>What happen in January 2022?</td>\n",
       "      <td>[General availability of release (auto-update)...</td>\n",
       "      <td>[General availability of release (auto-update)...</td>\n",
       "      <td>In January 2022, the platform updates for vers...</td>\n",
       "      <td>General availability of release (auto-update):...</td>\n",
       "      <td>single_hop_specifc_query_synthesizer</td>\n",
       "    </tr>\n",
       "    <tr>\n",
       "      <th>2</th>\n",
       "      <td>how do i find bug fixes in microsoft dynamics ...</td>\n",
       "      <td>[Bug fixes\\n\\nFor information about the bug fi...</td>\n",
       "      <td>[Bug fixes\\n\\nFor information about the bug fi...</td>\n",
       "      <td>To find bug fixes in Microsoft Dynamics Lifecy...</td>\n",
       "      <td>To find information about bug fixes, sign in t...</td>\n",
       "      <td>single_hop_specifc_query_synthesizer</td>\n",
       "    </tr>\n",
       "    <tr>\n",
       "      <th>3</th>\n",
       "      <td>When was the preview release of version 10.0.2...</td>\n",
       "      <td>[title: Platform updates for version 10.0.22 o...</td>\n",
       "      <td>[title: Platform updates for version 10.0.22 o...</td>\n",
       "      <td>The preview release of version 10.0.22 of the ...</td>\n",
       "      <td>The preview release of version 10.0.22 of the ...</td>\n",
       "      <td>single_hop_specifc_query_synthesizer</td>\n",
       "    </tr>\n",
       "    <tr>\n",
       "      <th>4</th>\n",
       "      <td>When was the general availability of the release?</td>\n",
       "      <td>[General availability of release (auto-update)...</td>\n",
       "      <td>[General availability of release (auto-update)...</td>\n",
       "      <td>The general availability of the release (auto-...</td>\n",
       "      <td>The general availability of the release was in...</td>\n",
       "      <td>single_hop_specifc_query_synthesizer</td>\n",
       "    </tr>\n",
       "    <tr>\n",
       "      <th>5</th>\n",
       "      <td>Wht r the diffrnces in the global availbility ...</td>\n",
       "      <td>[title: Platform updates for version 10.0.23 o...</td>\n",
       "      <td>[&lt;1-hop&gt;\\n\\ntitle: Platform updates for versio...</td>\n",
       "      <td>The differences in the global availability sch...</td>\n",
       "      <td>The global availability schedule for version 1...</td>\n",
       "      <td>multi_hop_specific_query_synthesizer</td>\n",
       "    </tr>\n",
       "    <tr>\n",
       "      <th>6</th>\n",
       "      <td>How does the upgrade to release 10.0.22 enhanc...</td>\n",
       "      <td>[an environment is upgraded to release 10.0.22...</td>\n",
       "      <td>[&lt;1-hop&gt;\\n\\nan environment is upgraded to rele...</td>\n",
       "      <td>The upgrade to release 10.0.22 enhances Power ...</td>\n",
       "      <td>The upgrade to release 10.0.22 enhances Power ...</td>\n",
       "      <td>multi_hop_specific_query_synthesizer</td>\n",
       "    </tr>\n",
       "    <tr>\n",
       "      <th>7</th>\n",
       "      <td>What were the key features introduced in the J...</td>\n",
       "      <td>[General availability of release (auto-update)...</td>\n",
       "      <td>[&lt;1-hop&gt;\\n\\nGeneral availability of release (a...</td>\n",
       "      <td>The key feature introduced in the January 2022...</td>\n",
       "      <td>In the January 2022 general availability relea...</td>\n",
       "      <td>multi_hop_specific_query_synthesizer</td>\n",
       "    </tr>\n",
       "    <tr>\n",
       "      <th>8</th>\n",
       "      <td>How does the integration of Microsoft Power Au...</td>\n",
       "      <td>[can be integrated with any automation by usin...</td>\n",
       "      <td>[&lt;1-hop&gt;\\n\\ncan be integrated with any automat...</td>\n",
       "      <td>The integration of Microsoft Power Automate wi...</td>\n",
       "      <td>The integration of Microsoft Power Automate wi...</td>\n",
       "      <td>multi_hop_specific_query_synthesizer</td>\n",
       "    </tr>\n",
       "    <tr>\n",
       "      <th>9</th>\n",
       "      <td>What are the key features and deprecations inc...</td>\n",
       "      <td>[Additional resources\\n\\nBug fixes\\n\\nFor info...</td>\n",
       "      <td>[&lt;1-hop&gt;\\n\\nCheck out the Dynamics 365 and ind...</td>\n",
       "      <td>The key features included in the Dynamics 365 ...</td>\n",
       "      <td>The Dynamics 365 and industry clouds: 2021 rel...</td>\n",
       "      <td>multi_hop_specific_query_synthesizer</td>\n",
       "    </tr>\n",
       "  </tbody>\n",
       "</table>\n",
       "</div>"
      ],
      "text/plain": [
       "                                          user_input  ...                      synthesizer_name\n",
       "0                       what new in version 10.0.23?  ...  single_hop_specifc_query_synthesizer\n",
       "1                       What happen in January 2022?  ...  single_hop_specifc_query_synthesizer\n",
       "2  how do i find bug fixes in microsoft dynamics ...  ...  single_hop_specifc_query_synthesizer\n",
       "3  When was the preview release of version 10.0.2...  ...  single_hop_specifc_query_synthesizer\n",
       "4  When was the general availability of the release?  ...  single_hop_specifc_query_synthesizer\n",
       "5  Wht r the diffrnces in the global availbility ...  ...  multi_hop_specific_query_synthesizer\n",
       "6  How does the upgrade to release 10.0.22 enhanc...  ...  multi_hop_specific_query_synthesizer\n",
       "7  What were the key features introduced in the J...  ...  multi_hop_specific_query_synthesizer\n",
       "8  How does the integration of Microsoft Power Au...  ...  multi_hop_specific_query_synthesizer\n",
       "9  What are the key features and deprecations inc...  ...  multi_hop_specific_query_synthesizer\n",
       "\n",
       "[10 rows x 6 columns]"
      ]
     },
     "execution_count": 24,
     "metadata": {},
     "output_type": "execute_result"
    }
   ],
   "source": [
    "dataset.to_pandas()"
   ]
  },
  {
   "cell_type": "code",
   "execution_count": 25,
   "id": "ed181a3f",
   "metadata": {},
   "outputs": [
    {
     "data": {
      "application/vnd.jupyter.widget-view+json": {
       "model_id": "c2c03d01e38f4743bc9b57d064c72429",
       "version_major": 2,
       "version_minor": 0
      },
      "text/plain": [
       "Evaluating:   0%|          | 0/60 [00:00<?, ?it/s]"
      ]
     },
     "metadata": {},
     "output_type": "display_data"
    },
    {
     "name": "stderr",
     "output_type": "stream",
     "text": [
      "Exception raised in Job[28]: RateLimitError(Error code: 429 - {'error': {'message': 'Rate limit reached for gpt-4.1 in organization org-XyIrJZx8AUgCzADN6GcfWGO6 on tokens per min (TPM): Limit 30000, Used 29509, Requested 1431. Please try again in 1.879s. Visit https://platform.openai.com/account/rate-limits to learn more.', 'type': 'tokens', 'param': None, 'code': 'rate_limit_exceeded'}})\n",
      "Exception raised in Job[13]: RateLimitError(Error code: 429 - {'error': {'message': 'Rate limit reached for gpt-4.1 in organization org-XyIrJZx8AUgCzADN6GcfWGO6 on tokens per min (TPM): Limit 30000, Used 29362, Requested 2024. Please try again in 2.772s. Visit https://platform.openai.com/account/rate-limits to learn more.', 'type': 'tokens', 'param': None, 'code': 'rate_limit_exceeded'}})\n",
      "Exception raised in Job[24]: RateLimitError(Error code: 429 - {'error': {'message': 'Rate limit reached for gpt-4.1 in organization org-XyIrJZx8AUgCzADN6GcfWGO6 on tokens per min (TPM): Limit 30000, Used 29884, Requested 1733. Please try again in 3.234s. Visit https://platform.openai.com/account/rate-limits to learn more.', 'type': 'tokens', 'param': None, 'code': 'rate_limit_exceeded'}})\n",
      "Exception raised in Job[16]: RateLimitError(Error code: 429 - {'error': {'message': 'Rate limit reached for gpt-4.1 in organization org-XyIrJZx8AUgCzADN6GcfWGO6 on tokens per min (TPM): Limit 30000, Used 29554, Requested 1596. Please try again in 2.3s. Visit https://platform.openai.com/account/rate-limits to learn more.', 'type': 'tokens', 'param': None, 'code': 'rate_limit_exceeded'}})\n",
      "Exception raised in Job[19]: RateLimitError(Error code: 429 - {'error': {'message': 'Rate limit reached for gpt-4.1 in organization org-XyIrJZx8AUgCzADN6GcfWGO6 on tokens per min (TPM): Limit 30000, Used 29510, Requested 1639. Please try again in 2.298s. Visit https://platform.openai.com/account/rate-limits to learn more.', 'type': 'tokens', 'param': None, 'code': 'rate_limit_exceeded'}})\n",
      "Exception raised in Job[22]: RateLimitError(Error code: 429 - {'error': {'message': 'Rate limit reached for gpt-4.1 in organization org-XyIrJZx8AUgCzADN6GcfWGO6 on tokens per min (TPM): Limit 30000, Used 29380, Requested 1389. Please try again in 1.538s. Visit https://platform.openai.com/account/rate-limits to learn more.', 'type': 'tokens', 'param': None, 'code': 'rate_limit_exceeded'}})\n",
      "Exception raised in Job[25]: RateLimitError(Error code: 429 - {'error': {'message': 'Rate limit reached for gpt-4.1 in organization org-XyIrJZx8AUgCzADN6GcfWGO6 on tokens per min (TPM): Limit 30000, Used 29869, Requested 1687. Please try again in 3.112s. Visit https://platform.openai.com/account/rate-limits to learn more.', 'type': 'tokens', 'param': None, 'code': 'rate_limit_exceeded'}})\n",
      "Exception raised in Job[30]: RateLimitError(Error code: 429 - {'error': {'message': 'Rate limit reached for gpt-4.1 in organization org-XyIrJZx8AUgCzADN6GcfWGO6 on tokens per min (TPM): Limit 30000, Used 29936, Requested 1998. Please try again in 3.868s. Visit https://platform.openai.com/account/rate-limits to learn more.', 'type': 'tokens', 'param': None, 'code': 'rate_limit_exceeded'}})\n",
      "Exception raised in Job[36]: RateLimitError(Error code: 429 - {'error': {'message': 'Rate limit reached for gpt-4.1 in organization org-XyIrJZx8AUgCzADN6GcfWGO6 on tokens per min (TPM): Limit 30000, Used 29192, Requested 1832. Please try again in 2.048s. Visit https://platform.openai.com/account/rate-limits to learn more.', 'type': 'tokens', 'param': None, 'code': 'rate_limit_exceeded'}})\n",
      "Exception raised in Job[34]: RateLimitError(Error code: 429 - {'error': {'message': 'Rate limit reached for gpt-4.1 in organization org-XyIrJZx8AUgCzADN6GcfWGO6 on tokens per min (TPM): Limit 30000, Used 29578, Requested 1600. Please try again in 2.356s. Visit https://platform.openai.com/account/rate-limits to learn more.', 'type': 'tokens', 'param': None, 'code': 'rate_limit_exceeded'}})\n",
      "Exception raised in Job[31]: RateLimitError(Error code: 429 - {'error': {'message': 'Rate limit reached for gpt-4.1 in organization org-XyIrJZx8AUgCzADN6GcfWGO6 on tokens per min (TPM): Limit 30000, Used 28962, Requested 2308. Please try again in 2.54s. Visit https://platform.openai.com/account/rate-limits to learn more.', 'type': 'tokens', 'param': None, 'code': 'rate_limit_exceeded'}})\n",
      "Exception raised in Job[42]: RateLimitError(Error code: 429 - {'error': {'message': 'Rate limit reached for gpt-4.1 in organization org-XyIrJZx8AUgCzADN6GcfWGO6 on tokens per min (TPM): Limit 30000, Used 29470, Requested 1952. Please try again in 2.844s. Visit https://platform.openai.com/account/rate-limits to learn more.', 'type': 'tokens', 'param': None, 'code': 'rate_limit_exceeded'}})\n",
      "Exception raised in Job[37]: RateLimitError(Error code: 429 - {'error': {'message': 'Rate limit reached for gpt-4.1 in organization org-XyIrJZx8AUgCzADN6GcfWGO6 on tokens per min (TPM): Limit 30000, Used 29891, Requested 1939. Please try again in 3.66s. Visit https://platform.openai.com/account/rate-limits to learn more.', 'type': 'tokens', 'param': None, 'code': 'rate_limit_exceeded'}})\n",
      "Exception raised in Job[46]: RateLimitError(Error code: 429 - {'error': {'message': 'Rate limit reached for gpt-4.1 in organization org-XyIrJZx8AUgCzADN6GcfWGO6 on tokens per min (TPM): Limit 30000, Used 29732, Requested 1431. Please try again in 2.326s. Visit https://platform.openai.com/account/rate-limits to learn more.', 'type': 'tokens', 'param': None, 'code': 'rate_limit_exceeded'}})\n",
      "Exception raised in Job[43]: RateLimitError(Error code: 429 - {'error': {'message': 'Rate limit reached for gpt-4.1 in organization org-XyIrJZx8AUgCzADN6GcfWGO6 on tokens per min (TPM): Limit 30000, Used 29465, Requested 1960. Please try again in 2.85s. Visit https://platform.openai.com/account/rate-limits to learn more.', 'type': 'tokens', 'param': None, 'code': 'rate_limit_exceeded'}})\n",
      "Exception raised in Job[35]: RateLimitError(Error code: 429 - {'error': {'message': 'Rate limit reached for gpt-4.1 in organization org-XyIrJZx8AUgCzADN6GcfWGO6 on tokens per min (TPM): Limit 30000, Used 28953, Requested 1569. Please try again in 1.044s. Visit https://platform.openai.com/account/rate-limits to learn more.', 'type': 'tokens', 'param': None, 'code': 'rate_limit_exceeded'}})\n"
     ]
    }
   ],
   "source": [
    "from ragas import EvaluationDataset\n",
    "from ragas.metrics import LLMContextRecall, Faithfulness, FactualCorrectness, ResponseRelevancy, ContextEntityRecall, NoiseSensitivity\n",
    "from ragas import evaluate, RunConfig\n",
    "from ragas import evaluate\n",
    "from ragas.llms import LangchainLLMWrapper\n",
    "\n",
    "evaluation_dataset = EvaluationDataset.from_pandas(dataset.to_pandas())\n",
    "\n",
    "#Using gpt-4.1 for evaluation\n",
    "evaluator_llm = LangchainLLMWrapper(ChatOpenAI(model=\"gpt-4.1\"))\n",
    "\n",
    "# Evaluate the retriever component\n",
    "custom_run_config = RunConfig(timeout=360)\n",
    "\n",
    "result = evaluate(\n",
    "    dataset=evaluation_dataset,\n",
    "    metrics=[LLMContextRecall(), Faithfulness(), FactualCorrectness(), ResponseRelevancy(), ContextEntityRecall(), NoiseSensitivity()],\n",
    "    llm=evaluator_llm,\n",
    "    run_config=custom_run_config\n",
    ")\n"
   ]
  },
  {
   "cell_type": "code",
   "execution_count": 26,
   "id": "0c73dc2d",
   "metadata": {},
   "outputs": [
    {
     "data": {
      "text/plain": [
       "{'context_recall': 0.9583, 'faithfulness': 0.8273, 'factual_correctness': 0.5780, 'answer_relevancy': 0.7563, 'context_entity_recall': 0.4914, 'noise_sensitivity_relevant': 0.1135}"
      ]
     },
     "execution_count": 26,
     "metadata": {},
     "output_type": "execute_result"
    }
   ],
   "source": [
    "result"
   ]
  },
  {
   "cell_type": "code",
   "execution_count": null,
   "id": "74c8b4dd",
   "metadata": {},
   "outputs": [],
   "source": [
    "result.to_pandas().to_csv(\"data/ragas_evaluation.csv\", index=False)"
   ]
  },
  {
   "cell_type": "markdown",
   "id": "ce7cf9e6",
   "metadata": {},
   "source": [
    "# LangSmith Integration\n",
    "\n",
    "Signup for [LangSmith](https://smith.langchain.com/) for free and get your API key."
   ]
  },
  {
   "cell_type": "code",
   "execution_count": null,
   "id": "92606ceb",
   "metadata": {},
   "outputs": [],
   "source": [
    "import os\n",
    "import getpass\n",
    "# Set up environment variables for LangSmith\n",
    "os.environ[\"LANGCHAIN_API_KEY\"] = getpass.getpass(\"LangSmith API Key:\") # LangChain or LangSmith API key\n",
    "os.environ[\"LANGCHAIN_PROJECT\"] = \"07_Integrations_and_Observability\""
   ]
  },
  {
   "cell_type": "code",
   "execution_count": null,
   "id": "b4eecc71",
   "metadata": {},
   "outputs": [],
   "source": [
    "\n",
    "from langsmith import Client\n",
    "\n",
    "client = Client()\n",
    "\n",
    "dataset_name = \"07_Integrations_and_Observability\"\n",
    "dataset_desc = \"Test dataset for Ragas evaluation with LangSmith\"\n",
    "\n",
    "langsmith_dataset = client.create_dataset(\n",
    "    dataset_name=dataset_name,\n",
    "    description=dataset_desc\n",
    ")\n",
    "\n",
    "\n",
    "# convert RAGAS dataset to LangSmith format\n",
    "# simple example, production code should bulk upload\n",
    "for data_row in dataset.to_pandas().iterrows():\n",
    "  client.create_example(\n",
    "      inputs={\n",
    "          \"question\": data_row[1][\"user_input\"]\n",
    "      },\n",
    "      outputs={\n",
    "          \"answer\": data_row[1][\"reference\"]\n",
    "      },\n",
    "      metadata={\n",
    "          \"context\": data_row[1][\"reference_contexts\"]\n",
    "      },\n",
    "      dataset_id=langsmith_dataset.id\n",
    "  )"
   ]
  },
  {
   "cell_type": "code",
   "execution_count": null,
   "id": "2959e037",
   "metadata": {},
   "outputs": [],
   "source": [
    "from ragas.integrations.langsmith import evaluate\n",
    "\n",
    "experiment_name = \"my-first-ragas-langsmith-experiment\"\n",
    "\n",
    "metrics_to_use = [LLMContextRecall()]\n",
    "evaluation_results = evaluate(\n",
    "        dataset_name=dataset_name,\n",
    "        llm_or_chain_factory=graph,\n",
    "        metrics=metrics_to_use,\n",
    "        experiment_name=experiment_name,\n",
    "        verbose=True\n",
    ")\n",
    "\n",
    "print(\"\\nEvaluation Results:\")\n",
    "print(evaluation_results)"
   ]
  }
 ],
 "metadata": {
  "kernelspec": {
   "display_name": ".venv",
   "language": "python",
   "name": "python3"
  },
  "language_info": {
   "codemirror_mode": {
    "name": "ipython",
    "version": 3
   },
   "file_extension": ".py",
   "mimetype": "text/x-python",
   "name": "python",
   "nbconvert_exporter": "python",
   "pygments_lexer": "ipython3",
   "version": "3.13.3"
  }
 },
 "nbformat": 4,
 "nbformat_minor": 5
}
