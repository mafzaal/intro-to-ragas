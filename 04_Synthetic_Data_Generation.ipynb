{
 "cells": [
  {
   "cell_type": "markdown",
   "id": "755c3998",
   "metadata": {},
   "source": [
    "# Synthetic Data Generation\n",
    "\n",
    "Please read the full article at [thedataguy.pro](https://thedataguy.pro/blog/evaluating-rag-systems-with-ragas/).\n",
    "\n"
   ]
  },
  {
   "cell_type": "code",
   "execution_count": null,
   "id": "29732e83",
   "metadata": {},
   "outputs": [],
   "source": [
    "import os\n",
    "import getpass\n",
    "\n",
    "os.environ[\"OPENAI_API_KEY\"] = getpass.getpass(\"OpenAI API Key:\")"
   ]
  },
  {
   "cell_type": "code",
   "execution_count": 3,
   "id": "6a96a027",
   "metadata": {},
   "outputs": [],
   "source": [
    "import nest_asyncio\n",
    "nest_asyncio.apply()"
   ]
  },
  {
   "cell_type": "code",
   "execution_count": 4,
   "id": "fd344943",
   "metadata": {},
   "outputs": [],
   "source": [
    "from ragas.llms import LangchainLLMWrapper\n",
    "from ragas.embeddings import LangchainEmbeddingsWrapper\n",
    "from langchain_openai import ChatOpenAI\n",
    "from langchain_openai import OpenAIEmbeddings\n",
    "generator_llm = LangchainLLMWrapper(ChatOpenAI(model=\"gpt-4.1\"))\n",
    "generator_embeddings = LangchainEmbeddingsWrapper(OpenAIEmbeddings())"
   ]
  },
  {
   "cell_type": "markdown",
   "id": "9e88d251",
   "metadata": {},
   "source": [
    "# Download Sample Data"
   ]
  },
  {
   "cell_type": "code",
   "execution_count": null,
   "id": "3db42857",
   "metadata": {},
   "outputs": [],
   "source": [
    "!mkdir - data/"
   ]
  },
  {
   "cell_type": "code",
   "execution_count": null,
   "id": "af037036",
   "metadata": {},
   "outputs": [],
   "source": [
    "!curl https://raw.githubusercontent.com/MicrosoftDocs/dynamics-365-unified-operations-public/refs/heads/main/articles/fin-ops-core/dev-itpro/get-started/whats-new-platform-updates-10-0-24.md -o data/whats-new-platform-updates-10-0-23.md"
   ]
  },
  {
   "cell_type": "code",
   "execution_count": 6,
   "id": "4bfd1e2a",
   "metadata": {},
   "outputs": [
    {
     "name": "stdout",
     "output_type": "stream",
     "text": [
      "  % Total    % Received % Xferd  Average Speed   Time    Time     Time  Current\n",
      "                                 Dload  Upload   Total   Spent    Left  Speed\n",
      "100  3857  100  3857    0     0   2889      0  0:00:01  0:00:01 --:--:--  2891\n"
     ]
    }
   ],
   "source": [
    "!curl https://raw.githubusercontent.com/MicrosoftDocs/dynamics-365-unified-operations-public/refs/heads/main/articles/fin-ops-core/dev-itpro/get-started/whats-new-platform-updates-10-0-23.md -o data/whats-new-platform-updates-10-0-23.md"
   ]
  },
  {
   "cell_type": "code",
   "execution_count": 7,
   "id": "ff1ae30b",
   "metadata": {},
   "outputs": [
    {
     "name": "stdout",
     "output_type": "stream",
     "text": [
      "  % Total    % Received % Xferd  Average Speed   Time    Time     Time  Current\n",
      "                                 Dload  Upload   Total   Spent    Left  Speed\n",
      "100  5863  100  5863    0     0  25983      0 --:--:-- --:--:-- --:--:-- 26057\n"
     ]
    }
   ],
   "source": [
    "! curl https://raw.githubusercontent.com/MicrosoftDocs/dynamics-365-unified-operations-public/refs/heads/main/articles/fin-ops-core/dev-itpro/get-started/whats-new-platform-updates-10-0-22.md -o data/whats-new-platform-updates-10-0-22.md"
   ]
  },
  {
   "cell_type": "markdown",
   "id": "8d4616a0",
   "metadata": {},
   "source": [
    "# Load the evaluation dataset"
   ]
  },
  {
   "cell_type": "code",
   "execution_count": 20,
   "id": "693e17e1",
   "metadata": {},
   "outputs": [],
   "source": [
    "from langchain_community.document_loaders import DirectoryLoader\n",
    "path = \"data/\"\n",
    "loader = DirectoryLoader(path, glob=\"*.md\")\n",
    "docs = loader.load()"
   ]
  },
  {
   "cell_type": "code",
   "execution_count": 21,
   "id": "51834fa8",
   "metadata": {},
   "outputs": [
    {
     "data": {
      "application/vnd.jupyter.widget-view+json": {
       "model_id": "3b702440697641e49d96b1609f2e63c5",
       "version_major": 2,
       "version_minor": 0
      },
      "text/plain": [
       "Applying HeadlinesExtractor:   0%|          | 0/3 [00:00<?, ?it/s]"
      ]
     },
     "metadata": {},
     "output_type": "display_data"
    },
    {
     "data": {
      "application/vnd.jupyter.widget-view+json": {
       "model_id": "8d3dae8efcd14edab9a1a1cad1777bf8",
       "version_major": 2,
       "version_minor": 0
      },
      "text/plain": [
       "Applying HeadlineSplitter:   0%|          | 0/3 [00:00<?, ?it/s]"
      ]
     },
     "metadata": {},
     "output_type": "display_data"
    },
    {
     "data": {
      "application/vnd.jupyter.widget-view+json": {
       "model_id": "e76ff192322a46a4be6e8e459b9efe2b",
       "version_major": 2,
       "version_minor": 0
      },
      "text/plain": [
       "Applying SummaryExtractor:   0%|          | 0/5 [00:00<?, ?it/s]"
      ]
     },
     "metadata": {},
     "output_type": "display_data"
    },
    {
     "name": "stderr",
     "output_type": "stream",
     "text": [
      "Property 'summary' already exists in node 'cfb8e5'. Skipping!\n",
      "Property 'summary' already exists in node '2ba176'. Skipping!\n"
     ]
    },
    {
     "data": {
      "application/vnd.jupyter.widget-view+json": {
       "model_id": "79cf39b5ec1d42b587c7426d562b497e",
       "version_major": 2,
       "version_minor": 0
      },
      "text/plain": [
       "Applying CustomNodeFilter:   0%|          | 0/2 [00:00<?, ?it/s]"
      ]
     },
     "metadata": {},
     "output_type": "display_data"
    },
    {
     "data": {
      "application/vnd.jupyter.widget-view+json": {
       "model_id": "1185547eb77e4fc6b8eff4ef92e15633",
       "version_major": 2,
       "version_minor": 0
      },
      "text/plain": [
       "Applying [EmbeddingExtractor, ThemesExtractor, NERExtractor]:   0%|          | 0/9 [00:00<?, ?it/s]"
      ]
     },
     "metadata": {},
     "output_type": "display_data"
    },
    {
     "name": "stderr",
     "output_type": "stream",
     "text": [
      "Property 'summary_embedding' already exists in node 'cfb8e5'. Skipping!\n",
      "Property 'summary_embedding' already exists in node '2ba176'. Skipping!\n"
     ]
    },
    {
     "data": {
      "application/vnd.jupyter.widget-view+json": {
       "model_id": "a929a4e5bd164fdfa1a1276d021130e8",
       "version_major": 2,
       "version_minor": 0
      },
      "text/plain": [
       "Applying [CosineSimilarityBuilder, OverlapScoreBuilder]:   0%|          | 0/2 [00:00<?, ?it/s]"
      ]
     },
     "metadata": {},
     "output_type": "display_data"
    },
    {
     "data": {
      "application/vnd.jupyter.widget-view+json": {
       "model_id": "4dbc12eb013b45638a7ed64a6622aaa5",
       "version_major": 2,
       "version_minor": 0
      },
      "text/plain": [
       "Generating personas:   0%|          | 0/3 [00:00<?, ?it/s]"
      ]
     },
     "metadata": {},
     "output_type": "display_data"
    },
    {
     "data": {
      "application/vnd.jupyter.widget-view+json": {
       "model_id": "2e9f5624ee174ca48eff0b99216ea1a2",
       "version_major": 2,
       "version_minor": 0
      },
      "text/plain": [
       "Generating Scenarios:   0%|          | 0/2 [00:00<?, ?it/s]"
      ]
     },
     "metadata": {},
     "output_type": "display_data"
    },
    {
     "data": {
      "application/vnd.jupyter.widget-view+json": {
       "model_id": "e2e4290142a74d92a842ec2c0cfe3b43",
       "version_major": 2,
       "version_minor": 0
      },
      "text/plain": [
       "Generating Samples:   0%|          | 0/12 [00:00<?, ?it/s]"
      ]
     },
     "metadata": {},
     "output_type": "display_data"
    }
   ],
   "source": [
    "from ragas.testset import TestsetGenerator\n",
    "from ragas.llms import LangchainLLMWrapper\n",
    "from ragas.embeddings import LangchainEmbeddingsWrapper\n",
    "from langchain_openai import ChatOpenAI\n",
    "from langchain_openai import OpenAIEmbeddings\n",
    "# Initialize the generator with the LLM and embedding model\n",
    "generator_llm = LangchainLLMWrapper(ChatOpenAI(model=\"gpt-4.1\"))\n",
    "generator_embeddings = LangchainEmbeddingsWrapper(OpenAIEmbeddings())\n",
    "\n",
    "generator = TestsetGenerator(llm=generator_llm, embedding_model=generator_embeddings)\n",
    "dataset = generator.generate_with_langchain_docs(docs, testset_size=10)"
   ]
  },
  {
   "cell_type": "code",
   "execution_count": 24,
   "id": "bbfcc8d3",
   "metadata": {},
   "outputs": [
    {
     "data": {
      "text/html": [
       "<div>\n",
       "<style scoped>\n",
       "    .dataframe tbody tr th:only-of-type {\n",
       "        vertical-align: middle;\n",
       "    }\n",
       "\n",
       "    .dataframe tbody tr th {\n",
       "        vertical-align: top;\n",
       "    }\n",
       "\n",
       "    .dataframe thead th {\n",
       "        text-align: right;\n",
       "    }\n",
       "</style>\n",
       "<table border=\"1\" class=\"dataframe\">\n",
       "  <thead>\n",
       "    <tr style=\"text-align: right;\">\n",
       "      <th></th>\n",
       "      <th>user_input</th>\n",
       "      <th>reference_contexts</th>\n",
       "      <th>reference</th>\n",
       "      <th>synthesizer_name</th>\n",
       "    </tr>\n",
       "  </thead>\n",
       "  <tbody>\n",
       "    <tr>\n",
       "      <th>0</th>\n",
       "      <td>Power BI work now with new update?</td>\n",
       "      <td>[title: Platform updates for version 10.0.22 o...</td>\n",
       "      <td>The Power BI embedded and Power BI.com integra...</td>\n",
       "      <td>single_hop_specifc_query_synthesizer</td>\n",
       "    </tr>\n",
       "    <tr>\n",
       "      <th>1</th>\n",
       "      <td>What change regarding jQWidgets is included in...</td>\n",
       "      <td>[title: Platform updates for version 10.0.22 o...</td>\n",
       "      <td>The platform updates for version 10.0.22 of fi...</td>\n",
       "      <td>single_hop_specifc_query_synthesizer</td>\n",
       "    </tr>\n",
       "    <tr>\n",
       "      <th>2</th>\n",
       "      <td>Moment update what do?</td>\n",
       "      <td>[title: Platform updates for version 10.0.22 o...</td>\n",
       "      <td>Open-source software update upgrade Moment and...</td>\n",
       "      <td>single_hop_specifc_query_synthesizer</td>\n",
       "    </tr>\n",
       "    <tr>\n",
       "      <th>3</th>\n",
       "      <td>Wher can I find informashun about featuers tha...</td>\n",
       "      <td>[Removed and deprecated platform features The ...</td>\n",
       "      <td>The Removed or deprecated platform features ar...</td>\n",
       "      <td>single_hop_specifc_query_synthesizer</td>\n",
       "    </tr>\n",
       "    <tr>\n",
       "      <th>4</th>\n",
       "      <td>what happen if breaking changes only affect co...</td>\n",
       "      <td>[Removed and deprecated platform features The ...</td>\n",
       "      <td>For breaking changes that affect only compilat...</td>\n",
       "      <td>single_hop_specifc_query_synthesizer</td>\n",
       "    </tr>\n",
       "    <tr>\n",
       "      <th>5</th>\n",
       "      <td>What happen with production environments when ...</td>\n",
       "      <td>[Removed and deprecated platform features The ...</td>\n",
       "      <td>For breaking changes that affect only compilat...</td>\n",
       "      <td>single_hop_specifc_query_synthesizer</td>\n",
       "    </tr>\n",
       "    <tr>\n",
       "      <th>6</th>\n",
       "      <td>What open-source software update was included ...</td>\n",
       "      <td>[&lt;1-hop&gt;\\n\\ntitle: Platform updates for versio...</td>\n",
       "      <td>Platform version 10.0.22 of finance and operat...</td>\n",
       "      <td>multi_hop_abstract_query_synthesizer</td>\n",
       "    </tr>\n",
       "    <tr>\n",
       "      <th>7</th>\n",
       "      <td>Wht is the open-source software update in plat...</td>\n",
       "      <td>[&lt;1-hop&gt;\\n\\ntitle: Platform updates for versio...</td>\n",
       "      <td>The open-source software update in platform ve...</td>\n",
       "      <td>multi_hop_abstract_query_synthesizer</td>\n",
       "    </tr>\n",
       "    <tr>\n",
       "      <th>8</th>\n",
       "      <td>what platform updates for finance and operatio...</td>\n",
       "      <td>[&lt;1-hop&gt;\\n\\ntitle: Platform updates for versio...</td>\n",
       "      <td>platform updates for finance and operations ap...</td>\n",
       "      <td>multi_hop_abstract_query_synthesizer</td>\n",
       "    </tr>\n",
       "    <tr>\n",
       "      <th>9</th>\n",
       "      <td>What new scenarios are enabled with Microsoft ...</td>\n",
       "      <td>[&lt;1-hop&gt;\\n\\ntitle: Platform updates for versio...</td>\n",
       "      <td>In version 10.0.22 of finance and operations a...</td>\n",
       "      <td>multi_hop_abstract_query_synthesizer</td>\n",
       "    </tr>\n",
       "    <tr>\n",
       "      <th>10</th>\n",
       "      <td>What are the key features included in the vers...</td>\n",
       "      <td>[&lt;1-hop&gt;\\n\\ntitle: Platform updates for versio...</td>\n",
       "      <td>The version 10.0.22 release of finance and ope...</td>\n",
       "      <td>multi_hop_abstract_query_synthesizer</td>\n",
       "    </tr>\n",
       "    <tr>\n",
       "      <th>11</th>\n",
       "      <td>Wht featuers were includded in the version 10....</td>\n",
       "      <td>[&lt;1-hop&gt;\\n\\ntitle: Platform updates for versio...</td>\n",
       "      <td>The version 10.0.22 release of finance and ope...</td>\n",
       "      <td>multi_hop_abstract_query_synthesizer</td>\n",
       "    </tr>\n",
       "  </tbody>\n",
       "</table>\n",
       "</div>"
      ],
      "text/plain": [
       "                                           user_input  \\\n",
       "0                  Power BI work now with new update?   \n",
       "1   What change regarding jQWidgets is included in...   \n",
       "2                              Moment update what do?   \n",
       "3   Wher can I find informashun about featuers tha...   \n",
       "4   what happen if breaking changes only affect co...   \n",
       "5   What happen with production environments when ...   \n",
       "6   What open-source software update was included ...   \n",
       "7   Wht is the open-source software update in plat...   \n",
       "8   what platform updates for finance and operatio...   \n",
       "9   What new scenarios are enabled with Microsoft ...   \n",
       "10  What are the key features included in the vers...   \n",
       "11  Wht featuers were includded in the version 10....   \n",
       "\n",
       "                                   reference_contexts  \\\n",
       "0   [title: Platform updates for version 10.0.22 o...   \n",
       "1   [title: Platform updates for version 10.0.22 o...   \n",
       "2   [title: Platform updates for version 10.0.22 o...   \n",
       "3   [Removed and deprecated platform features The ...   \n",
       "4   [Removed and deprecated platform features The ...   \n",
       "5   [Removed and deprecated platform features The ...   \n",
       "6   [<1-hop>\\n\\ntitle: Platform updates for versio...   \n",
       "7   [<1-hop>\\n\\ntitle: Platform updates for versio...   \n",
       "8   [<1-hop>\\n\\ntitle: Platform updates for versio...   \n",
       "9   [<1-hop>\\n\\ntitle: Platform updates for versio...   \n",
       "10  [<1-hop>\\n\\ntitle: Platform updates for versio...   \n",
       "11  [<1-hop>\\n\\ntitle: Platform updates for versio...   \n",
       "\n",
       "                                            reference  \\\n",
       "0   The Power BI embedded and Power BI.com integra...   \n",
       "1   The platform updates for version 10.0.22 of fi...   \n",
       "2   Open-source software update upgrade Moment and...   \n",
       "3   The Removed or deprecated platform features ar...   \n",
       "4   For breaking changes that affect only compilat...   \n",
       "5   For breaking changes that affect only compilat...   \n",
       "6   Platform version 10.0.22 of finance and operat...   \n",
       "7   The open-source software update in platform ve...   \n",
       "8   platform updates for finance and operations ap...   \n",
       "9   In version 10.0.22 of finance and operations a...   \n",
       "10  The version 10.0.22 release of finance and ope...   \n",
       "11  The version 10.0.22 release of finance and ope...   \n",
       "\n",
       "                        synthesizer_name  \n",
       "0   single_hop_specifc_query_synthesizer  \n",
       "1   single_hop_specifc_query_synthesizer  \n",
       "2   single_hop_specifc_query_synthesizer  \n",
       "3   single_hop_specifc_query_synthesizer  \n",
       "4   single_hop_specifc_query_synthesizer  \n",
       "5   single_hop_specifc_query_synthesizer  \n",
       "6   multi_hop_abstract_query_synthesizer  \n",
       "7   multi_hop_abstract_query_synthesizer  \n",
       "8   multi_hop_abstract_query_synthesizer  \n",
       "9   multi_hop_abstract_query_synthesizer  \n",
       "10  multi_hop_abstract_query_synthesizer  \n",
       "11  multi_hop_abstract_query_synthesizer  "
      ]
     },
     "execution_count": 24,
     "metadata": {},
     "output_type": "execute_result"
    }
   ],
   "source": [
    "dataset_df = dataset.to_pandas()\n",
    "dataset_df"
   ]
  },
  {
   "cell_type": "code",
   "execution_count": 26,
   "id": "670562e9",
   "metadata": {},
   "outputs": [
    {
     "data": {
      "text/plain": [
       "Index(['user_input', 'reference_contexts', 'reference', 'synthesizer_name'], dtype='object')"
      ]
     },
     "execution_count": 26,
     "metadata": {},
     "output_type": "execute_result"
    }
   ],
   "source": [
    "dataset_df.columns"
   ]
  }
 ],
 "metadata": {
  "kernelspec": {
   "display_name": ".venv",
   "language": "python",
   "name": "python3"
  },
  "language_info": {
   "codemirror_mode": {
    "name": "ipython",
    "version": 3
   },
   "file_extension": ".py",
   "mimetype": "text/x-python",
   "name": "python",
   "nbconvert_exporter": "python",
   "pygments_lexer": "ipython3",
   "version": "3.13.3"
  }
 },
 "nbformat": 4,
 "nbformat_minor": 5
}
