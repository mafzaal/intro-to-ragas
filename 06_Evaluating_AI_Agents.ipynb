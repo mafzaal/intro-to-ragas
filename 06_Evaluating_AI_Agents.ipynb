{
 "cells": [
  {
   "cell_type": "markdown",
   "id": "4716aab6",
   "metadata": {},
   "source": [
    "# Evaluating AI Agents\n",
    "\n",
    "Please read the full article at [thedataguy.pro](https://thedataguy.pro/blog/evaluating-ai-agents-with-ragas/).\n"
   ]
  },
  {
   "cell_type": "code",
   "execution_count": 1,
   "id": "912464bb",
   "metadata": {},
   "outputs": [],
   "source": [
    "import os\n",
    "import getpass\n",
    "\n",
    "os.environ[\"OPENAI_API_KEY\"] = getpass.getpass(\"OpenAI API Key:\")"
   ]
  },
  {
   "cell_type": "code",
   "execution_count": 2,
   "id": "ab620263",
   "metadata": {},
   "outputs": [],
   "source": [
    "import nest_asyncio\n",
    "nest_asyncio.apply()"
   ]
  },
  {
   "cell_type": "code",
   "execution_count": 6,
   "id": "555760f2",
   "metadata": {},
   "outputs": [
    {
     "name": "stderr",
     "output_type": "stream",
     "text": [
      "/home/mafzaal/source/intro-to-ragas/.venv/lib/python3.13/site-packages/ragas/metrics/_tool_call_accuracy.py:100: UserWarning: No tool calls found in the user input\n",
      "  warnings.warn(\"No tool calls found in the user input\")\n"
     ]
    },
    {
     "name": "stdout",
     "output_type": "stream",
     "text": [
      "Goal Accuracy: 1.0\n",
      "Tool Call Accuracy: 0.0\n",
      "Topic Adherence: 0.4999999999375\n"
     ]
    }
   ],
   "source": [
    "from ragas.metrics import AgentGoalAccuracyWithoutReference, ToolCallAccuracy, TopicAdherenceScore\n",
    "from ragas.evaluation import EvaluationDataset\n",
    "from ragas.dataset_schema import MultiTurnSample\n",
    "from langchain_openai import ChatOpenAI\n",
    "from ragas.llms import LangchainLLMWrapper\n",
    "\n",
    "# Initialize the LLM\n",
    "evaluator_llm = LangchainLLMWrapper(ChatOpenAI(model=\"gpt-4o\"))\n",
    "\n",
    "# Example conversation with a travel booking agent\n",
    "test_data = {\n",
    "    \"user_input\": [\n",
    "        {\"role\": \"user\", \"content\": \"I need to book a flight from New York to London next Friday\"},\n",
    "        {\"role\": \"assistant\", \"content\": \"I'd be happy to help you book a flight. Let me search for options...\", \n",
    "         \"tool_calls\": [{\"name\": \"search_flights\", \"arguments\": {\"origin\": \"NYC\", \"destination\": \"LON\", \"date\": \"next Friday\"}}]},\n",
    "        {\"role\": \"tool\", \"name\": \"search_flights\", \"content\": \"Found 5 flights: Flight 1 (Delta, $750), Flight 2 (British Airways, $820)...\"},\n",
    "        {\"role\": \"assistant\", \"content\": \"I found several flights from New York to London next Friday. The cheapest option is Delta for $750. Would you like to book this one?\"},\n",
    "        {\"role\": \"user\", \"content\": \"Yes, please book the Delta flight\"},\n",
    "        {\"role\": \"assistant\", \"content\": \"I'll book that for you now.\", \n",
    "         \"tool_calls\": [{\"name\": \"book_flight\", \"arguments\": {\"flight_id\": \"delta_123\", \"price\": \"$750\"}}]},\n",
    "        {\"role\": \"tool\", \"name\": \"book_flight\", \"content\": \"Booking confirmed. Confirmation #: ABC123\"},\n",
    "        {\"role\": \"assistant\", \"content\": \"Great news! Your flight is confirmed. Your confirmation number is ABC123. The flight is scheduled for next Friday. Is there anything else you need help with?\"}\n",
    "    ],\n",
    "    \"reference_topics\": [\"travel\", \"flight booking\", \"schedules\", \"prices\"],\n",
    "    \"reference_tool_calls\": [\n",
    "        {\"name\": \"search_flights\", \"args\": {\"origin\": \"NYC\", \"destination\": \"LON\", \"date\": \"next Friday\"}},\n",
    "        {\"name\": \"book_flight\", \"args\": {\"flight_id\": \"delta_123\", \"price\": \"$750\"}}\n",
    "    ]\n",
    "}\n",
    "\n",
    "# Create a sample\n",
    "sample = MultiTurnSample(**test_data)\n",
    "\n",
    "# Initialize metrics\n",
    "goal_accuracy = AgentGoalAccuracyWithoutReference(llm=evaluator_llm)\n",
    "tool_accuracy = ToolCallAccuracy()\n",
    "topic_adherence = TopicAdherenceScore(llm=evaluator_llm)\n",
    "\n",
    "# Calculate scores\n",
    "goal_score = await goal_accuracy.multi_turn_ascore(sample)\n",
    "tool_score = tool_accuracy.multi_turn_score(sample)\n",
    "topic_score = await topic_adherence.multi_turn_ascore(sample)\n",
    "\n",
    "print(f\"Goal Accuracy: {goal_score}\")\n",
    "print(f\"Tool Call Accuracy: {tool_score}\")\n",
    "print(f\"Topic Adherence: {topic_score}\")"
   ]
  }
 ],
 "metadata": {
  "kernelspec": {
   "display_name": ".venv",
   "language": "python",
   "name": "python3"
  },
  "language_info": {
   "codemirror_mode": {
    "name": "ipython",
    "version": 3
   },
   "file_extension": ".py",
   "mimetype": "text/x-python",
   "name": "python",
   "nbconvert_exporter": "python",
   "pygments_lexer": "ipython3",
   "version": "3.13.3"
  }
 },
 "nbformat": 4,
 "nbformat_minor": 5
}
