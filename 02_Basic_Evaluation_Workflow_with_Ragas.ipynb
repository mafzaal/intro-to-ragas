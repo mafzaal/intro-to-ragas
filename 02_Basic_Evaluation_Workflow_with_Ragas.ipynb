{
 "cells": [
  {
   "cell_type": "code",
   "execution_count": null,
   "id": "d4aea017",
   "metadata": {},
   "outputs": [],
   "source": [
    "import os\n",
    "import getpass\n",
    "\n",
    "os.environ[\"OPENAI_API_KEY\"] = getpass.getpass(\"OpenAI API Key:\")"
   ]
  },
  {
   "cell_type": "code",
   "execution_count": 2,
   "id": "712aeb6d",
   "metadata": {},
   "outputs": [],
   "source": [
    "import nest_asyncio\n",
    "nest_asyncio.apply()"
   ]
  },
  {
   "cell_type": "code",
   "execution_count": 14,
   "id": "04b9512f",
   "metadata": {},
   "outputs": [],
   "source": [
    "import pandas as pd\n",
    "from ragas import EvaluationDataset\n",
    "from ragas import evaluate, RunConfig\n",
    "from ragas.metrics import LLMContextRecall, Faithfulness, FactualCorrectness, ResponseRelevancy, ContextEntityRecall, NoiseSensitivity"
   ]
  },
  {
   "cell_type": "code",
   "execution_count": null,
   "id": "4e754b7f",
   "metadata": {},
   "outputs": [
    {
     "data": {
      "text/plain": [
       "EvaluationDataset(features=['user_input', 'retrieved_contexts', 'response', 'reference'], len=2)"
      ]
     },
     "execution_count": 19,
     "metadata": {},
     "output_type": "execute_result"
    }
   ],
   "source": [
    "# Mock data for evaluation\n",
    "# In a real-world scenario, you would load your evaluation data from a file or database.\n",
    "data = {\n",
    "    \"user_input\": [\n",
    "        \"What are the main symptoms of COVID-19?\",\n",
    "        \"How does machine learning differ from deep learning?\"\n",
    "    ],\n",
    "    \"retrieved_contexts\": [\n",
    "        [\n",
    "            \"Common symptoms of COVID-19 include fever, cough, and fatigue. Some patients also report loss of taste or smell, body aches, and difficulty breathing.\",\n",
    "            \"COVID-19 is caused by the SARS-CoV-2 virus and spreads primarily through respiratory droplets.\"\n",
    "        ],\n",
    "        [\n",
    "            \"Machine learning is a subset of AI focused on algorithms that learn from data without being explicitly programmed.\",\n",
    "            \"Deep learning is a specialized form of machine learning using neural networks with many layers (deep neural networks).\"\n",
    "        ]\n",
    "    ],\n",
    "    \"response\": [\n",
    "        \"The main symptoms of COVID-19 include fever, cough, fatigue, and sometimes loss of taste or smell, body aches, and breathing difficulties.\",\n",
    "        \"Machine learning is a subset of AI that focuses on algorithms learning from data, while deep learning is a specialized form of machine learning that uses deep neural networks with multiple layers.\"\n",
    "    ],\n",
    "    \"reference\": [\n",
    "        \"COVID-19 symptoms commonly include fever, dry cough, fatigue, loss of taste or smell, body aches, sore throat, and in severe cases, difficulty breathing.\",\n",
    "        \"Machine learning is a branch of AI where systems learn from data, identify patterns, and make decisions with minimal human intervention. Deep learning is a subset of machine learning that uses neural networks with multiple layers (deep neural networks) to analyze various factors of data.\"\n",
    "    ]\n",
    "}\n",
    "\n",
    "eval_data = pd.DataFrame(data)\n",
    "\n",
    "# Convert to a format Ragas can use\n",
    "evaluation_dataset = EvaluationDataset.from_pandas(eval_data)\n",
    "evaluation_dataset\n"
   ]
  },
  {
   "cell_type": "code",
   "execution_count": null,
   "id": "2852066e",
   "metadata": {},
   "outputs": [
    {
     "name": "stderr",
     "output_type": "stream",
     "text": [
      "Evaluating: 100%|██████████| 12/12 [00:28<00:00,  2.41s/it]\n"
     ]
    },
    {
     "name": "stdout",
     "output_type": "stream",
     "text": [
      "{'faithfulness': 1.0000, 'factual_correctness': 0.6750, 'answer_relevancy': 0.9897, 'context_entity_recall': 0.8889, 'noise_sensitivity_relevant': 0.1667, 'context_recall': 0.5000}\n"
     ]
    }
   ],
   "source": [
    "from langchain_openai import ChatOpenAI\n",
    "from ragas.llms import LangchainLLMWrapper\n",
    "\n",
    "# Initialize the LLM, you are going to OPENAI API key\n",
    "evaluator_llm = LangchainLLMWrapper(ChatOpenAI(model=\"gpt-4o\")) \n",
    "\n",
    "# Define metrics to use\n",
    "metrics = [\n",
    "    Faithfulness(), \n",
    "    FactualCorrectness(),\n",
    "    ResponseRelevancy(), \n",
    "    ContextEntityRecall(), \n",
    "    NoiseSensitivity(),\n",
    "    LLMContextRecall()\n",
    "]\n",
    "\n",
    "# Run evaluation\n",
    "results = evaluate(\n",
    "    evaluation_dataset,\n",
    "    metrics=metrics,\n",
    "    llm=evaluator_llm  # Required for LLM-based metrics\n",
    ")\n",
    "\n",
    "# View results\n",
    "print(results)"
   ]
  },
  {
   "cell_type": "code",
   "execution_count": 26,
   "id": "6ac0b872",
   "metadata": {},
   "outputs": [
    {
     "name": "stdout",
     "output_type": "stream",
     "text": [
      "Quantum accuracy score: 0\n"
     ]
    }
   ],
   "source": [
    "from ragas import SingleTurnSample\n",
    "from ragas.metrics import AspectCritic\n",
    "\n",
    "# Define a specific test case\n",
    "test_data = {\n",
    "    \"user_input\": \"What are quantum computers?\",\n",
    "    \"response\": \"Quantum computers use quantum bits or qubits that can exist in multiple states simultaneously, unlike classical bits that can only be 0 or 1.\",\n",
    "    \"retrieved_contexts\": [\"Quantum computing is a type of computation that harnesses quantum mechanical phenomena.\"]\n",
    "}\n",
    "\n",
    "# Create a custom evaluation metric\n",
    "custom_metric = AspectCritic(\n",
    "    name=\"quantum_accuracy\", \n",
    "    llm=evaluator_llm,\n",
    "    definition=\"Verify if the explanation of quantum computing is accurate and complete.\"\n",
    ")\n",
    "\n",
    "# Score the sample\n",
    "sample = SingleTurnSample(**test_data)\n",
    "score = await custom_metric.single_turn_ascore(sample)\n",
    "print(f\"Quantum accuracy score: {score}\")"
   ]
  }
 ],
 "metadata": {
  "kernelspec": {
   "display_name": ".venv",
   "language": "python",
   "name": "python3"
  },
  "language_info": {
   "codemirror_mode": {
    "name": "ipython",
    "version": 3
   },
   "file_extension": ".py",
   "mimetype": "text/x-python",
   "name": "python",
   "nbconvert_exporter": "python",
   "pygments_lexer": "ipython3",
   "version": "3.13.3"
  }
 },
 "nbformat": 4,
 "nbformat_minor": 5
}
