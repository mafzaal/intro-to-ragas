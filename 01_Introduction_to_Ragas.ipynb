{
 "cells": [
  {
   "cell_type": "code",
   "execution_count": null,
   "id": "04b9512f",
   "metadata": {},
   "outputs": [],
   "source": [
    "from ragas.metrics import faithfulness\n",
    "from datasets import Dataset\n",
    "# Your evaluation data\n",
    "data = {\n",
    "    \"question\": [\"What is the capital of France?\"],\n",
    "    \"contexts\": [[\"Paris is the capital and most populous city of France.\"]],\n",
    "    \"response\": [\"The capital of France is Paris.\"]\n",
    "}\n",
    "# Convert to Dataset format\n",
    "dataset = Dataset.from_dict(data)\n",
    "# Evaluate faithfulness\n",
    "results = faithfulness.score(dataset)\n",
    "print(f\"Faithfulness score: {results['faithfulness']}\")"
   ]
  }
 ],
 "metadata": {
  "kernelspec": {
   "display_name": ".venv",
   "language": "python",
   "name": "python3"
  },
  "language_info": {
   "name": "python",
   "version": "3.13.3"
  }
 },
 "nbformat": 4,
 "nbformat_minor": 5
}
