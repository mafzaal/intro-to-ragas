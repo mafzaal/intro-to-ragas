{
 "cells": [
  {
   "cell_type": "code",
   "execution_count": 1,
   "id": "d4aea017",
   "metadata": {},
   "outputs": [],
   "source": [
    "import os\n",
    "import getpass\n",
    "\n",
    "os.environ[\"OPENAI_API_KEY\"] = getpass.getpass(\"LangChain API Key:\")"
   ]
  },
  {
   "cell_type": "code",
   "execution_count": 2,
   "id": "712aeb6d",
   "metadata": {},
   "outputs": [],
   "source": [
    "import nest_asyncio\n",
    "nest_asyncio.apply()"
   ]
  },
  {
   "cell_type": "code",
   "execution_count": null,
   "id": "04b9512f",
   "metadata": {},
   "outputs": [
    {
     "name": "stdout",
     "output_type": "stream",
     "text": [
      "Faithfulness score: 1.0\n"
     ]
    }
   ],
   "source": [
    "from ragas.metrics import Faithfulness\n",
    "from ragas.evaluation import EvaluationDataset\n",
    "from ragas.dataset_schema import SingleTurnSample\n",
    "from langchain_openai import ChatOpenAI\n",
    "from ragas.llms import LangchainLLMWrapper\n",
    "from langchain_openai import ChatOpenAI\n",
    "\n",
    "# Initialize the LLM, you are going to OPENAI API key\n",
    "evaluator_llm = LangchainLLMWrapper(ChatOpenAI(model=\"gpt-4o\")) \n",
    "\n",
    "# Your evaluation data\n",
    "test_data = {\n",
    "    \"user_input\": \"What is the capital of France?\",\n",
    "    \"retrieved_contexts\": [\"Paris is the capital and most populous city of France.\"],\n",
    "    \"response\": \"The capital of France is Paris.\"\n",
    "}\n",
    "\n",
    "# Create a sample\n",
    "sample = SingleTurnSample(**test_data)  # Unpack the dictionary into the constructor\n",
    "\n",
    "# Create metric\n",
    "faithfulness = Faithfulness(llm=evaluator_llm)\n",
    "# Calculate the score\n",
    "results = await faithfulness.single_turn_ascore(sample)\n",
    "print(f\"Faithfulness score: {results}\")"
   ]
  }
 ],
 "metadata": {
  "kernelspec": {
   "display_name": ".venv",
   "language": "python",
   "name": "python3"
  },
  "language_info": {
   "codemirror_mode": {
    "name": "ipython",
    "version": 3
   },
   "file_extension": ".py",
   "mimetype": "text/x-python",
   "name": "python",
   "nbconvert_exporter": "python",
   "pygments_lexer": "ipython3",
   "version": "3.13.3"
  }
 },
 "nbformat": 4,
 "nbformat_minor": 5
}
