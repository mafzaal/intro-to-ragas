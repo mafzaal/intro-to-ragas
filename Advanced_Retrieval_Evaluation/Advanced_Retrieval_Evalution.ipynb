{
  "cells": [
    {
      "cell_type": "markdown",
      "metadata": {
        "id": "e-IqJAMkwnCF"
      },
      "source": [
        "# Advanced Retrieval Evaulation\n",
        "\n",
        "Please read the full article at [thedataguy.pro](https://thedataguy.pro/blog/evaluating-advanced-rag-retrievers/).\n",
        "\n",
        "\n",
        "## Solution Approach\n",
        "\n",
        "### Step 1: Generate Synthetic Data\n",
        "\n",
        "We'll generate test data using RAGAS Synthetic Data Generator to create a comprehensive evaluation set for our retrievers. The synthetic data will be stored in CSV format for reuse across different retriever evaluations.\n",
        "\n",
        "> Note: `testset.csv` was generated using `grok-3` and `Snowflake/snowflake-arctic-embed-l` in the `grok_3.ipynb` notebook.\n",
        "\n",
        "### Step 2: Generate Eval Dataset\n",
        "\n",
        "We'll create a LangSmith dataset and run evaluation using the following RAGAS metrics:\n",
        "- `LLMContextRecall`: Measures how much of the relevant context the LLM incorporated\n",
        "- `Faithfulness`: Evaluates if the answers are grounded in the retrieved context\n",
        "- `ContextRecall`: Assesses how well the retriever found relevant documents\n",
        "- `AnswerRelevancy`: Measures how relevant the generated answers are to the questions\n",
        "\n",
        "### Step 3: Evaluation\n",
        "\n",
        "Each retriever chain will be evaluated using LangSmith experiments:\n",
        "- Naive Retriever (Vector similarity)\n",
        "- BM25 Retriever (Sparse retrieval)\n",
        "- Contextual Compression Retriever with Cohere Rerank\n",
        "- Multi-Query Retriever\n",
        "- Parent Document Retriever\n",
        "- Ensemble Retriever\n",
        "\n",
        "## Step 4: Analysis and Report\n",
        "\n",
        "We'll build comparison charts and tables across three key dimensions:\n",
        "- Performance: Based on RAGAS metrics scores\n",
        "- Cost: API costs for embedding, retrieval, and reranking operations\n",
        "- Latency: Response time measurements for each retriever\n",
        "\n",
        "The final report will include recommendations on which retriever performs best for this specific dataset and use case.\n",
        "\n",
        "[Read full article](https://thedataguy.pro/blog/evaluating-advanced-rag-retrievers/)\n"
      ]
    },
    {
      "cell_type": "markdown",
      "metadata": {
        "id": "4rKP3hgHivpe"
      },
      "source": [
        "Open `Advanced_Retrieval_Evaluation` in `VS Code` and run `uv sync`"
      ]
    },
    {
      "cell_type": "markdown",
      "metadata": {
        "id": "Z7OHJXzfyJyA"
      },
      "source": [
        "### Required API Keys\n",
        "\n",
        "This notebook requires the following API keys to function properly:\n",
        "\n",
        "1. **OpenAI API Key** - For embeddings and LLM access\n",
        "2. **Cohere API Key** - For reranking capability\n",
        "3. **LangChain API Key** - For LangSmith tracing and evaluation\n",
        "4. **X AI API Key** - For synthetic data generation\n",
        "\n",
        "The API keys will be securely collected in the following cells using `getpass` to avoid exposing sensitive information."
      ]
    },
    {
      "cell_type": "code",
      "execution_count": 1,
      "metadata": {
        "colab": {
          "base_uri": "https://localhost:8080/"
        },
        "id": "7LttlDQUYgSI",
        "outputId": "9dca95ab-4d02-4adf-ec3f-cb831326dc54"
      },
      "outputs": [],
      "source": [
        "import os\n",
        "import getpass\n",
        "\n",
        "os.environ[\"OPENAI_API_KEY\"] = getpass.getpass(\"Enter your OpenAI API Key:\")"
      ]
    },
    {
      "cell_type": "code",
      "execution_count": 2,
      "metadata": {
        "colab": {
          "base_uri": "https://localhost:8080/"
        },
        "id": "3iUahNiJyQbv",
        "outputId": "78bf06ef-2ee8-46c3-f73d-27958b4dd79b"
      },
      "outputs": [],
      "source": [
        "os.environ[\"COHERE_API_KEY\"] = getpass.getpass(\"Cohere API Key:\")"
      ]
    },
    {
      "cell_type": "code",
      "execution_count": 3,
      "metadata": {},
      "outputs": [],
      "source": [
        "# For LangSmith\n",
        "os.environ[\"LANGCHAIN_API_KEY\"] = getpass.getpass(\"LangChain API Key:\")\n",
        "os.environ[\"LANGCHAIN_TRACING_V2\"] = \"true\"\n",
        "dataset_name = \"Retrieval Evaulation - John Wick\"\n",
        "os.environ[\"LANGCHAIN_PROJECT\"] = dataset_name"
      ]
    },
    {
      "cell_type": "code",
      "execution_count": 4,
      "metadata": {},
      "outputs": [],
      "source": [
        "os.environ[\"XAI_API_KEY\"] = getpass.getpass(\"Enter your XAI API Key:\")"
      ]
    },
    {
      "cell_type": "markdown",
      "metadata": {
        "id": "xXKHcZmKzDwT"
      },
      "source": [
        "### Data Collection\n",
        "\n",
        "We can simply `wget` these from GitHub."
      ]
    },
    {
      "cell_type": "code",
      "execution_count": null,
      "metadata": {
        "colab": {
          "base_uri": "https://localhost:8080/"
        },
        "id": "vbbSIGtzX3dS",
        "outputId": "0ce6514e-2479-4001-af24-824f987ce599"
      },
      "outputs": [],
      "source": [
        "!wget https://raw.githubusercontent.com/AI-Maker-Space/DataRepository/main/jw1.csv -O john_wick_1.csv\n",
        "!wget https://raw.githubusercontent.com/AI-Maker-Space/DataRepository/main/jw2.csv -O john_wick_2.csv\n",
        "!wget https://raw.githubusercontent.com/AI-Maker-Space/DataRepository/main/jw3.csv -O john_wick_3.csv\n",
        "!wget https://raw.githubusercontent.com/AI-Maker-Space/DataRepository/main/jw4.csv -O john_wick_4.csv"
      ]
    },
    {
      "cell_type": "markdown",
      "metadata": {
        "id": "A92NC2QZzCsi"
      },
      "source": [
        "### Data Preparation\n",
        "\n",
        "We want to make sure all our documents have the relevant metadata for the various retrieval strategies we're going to be applying today.\n",
        "\n",
        "- Self-Query: Wants as much metadata as we can provide\n",
        "- Time-weighted: Wants temporal data\n",
        "\n",
        "> NOTE: While we're creating a temporal relationship based on when these movies came out for illustrative purposes, it needs to be clear that the \"time-weighting\" in the Time-weighted Retriever is based on when the document was *accessed* last - not when it was created."
      ]
    },
    {
      "cell_type": "code",
      "execution_count": 5,
      "metadata": {
        "id": "GshBjVRJZ6p8"
      },
      "outputs": [],
      "source": [
        "from langchain_community.document_loaders.csv_loader import CSVLoader\n",
        "from datetime import datetime, timedelta\n",
        "\n",
        "documents = []\n",
        "\n",
        "for i in range(1, 5):\n",
        "  loader = CSVLoader(\n",
        "      file_path=f\"john_wick_{i}.csv\",\n",
        "      metadata_columns=[\"Review_Date\", \"Review_Title\", \"Review_Url\", \"Author\", \"Rating\"]\n",
        "  )\n",
        "\n",
        "  movie_docs = loader.load()\n",
        "  for doc in movie_docs:\n",
        "\n",
        "    # Add the \"Movie Title\" (John Wick 1, 2, ...)\n",
        "    doc.metadata[\"Movie_Title\"] = f\"John Wick {i}\"\n",
        "\n",
        "    # convert \"Rating\" to an `int`, if no rating is provided - assume 0 rating\n",
        "    doc.metadata[\"Rating\"] = int(doc.metadata[\"Rating\"]) if doc.metadata[\"Rating\"] else 0\n",
        "\n",
        "    # newer movies have a more recent \"last_accessed_at\"\n",
        "    doc.metadata[\"last_accessed_at\"] = datetime.now() - timedelta(days=4-i)\n",
        "\n",
        "  documents.extend(movie_docs)"
      ]
    },
    {
      "cell_type": "markdown",
      "metadata": {
        "id": "9gQphb6y0C0S"
      },
      "source": [
        "Let's look at an example document to see if everything worked as expected!"
      ]
    },
    {
      "cell_type": "code",
      "execution_count": 6,
      "metadata": {
        "colab": {
          "base_uri": "https://localhost:8080/"
        },
        "id": "PkUkCf7DaMiq",
        "outputId": "e90bd5da-1d87-423b-838a-cb6efc16b199"
      },
      "outputs": [
        {
          "data": {
            "text/plain": [
              "Document(metadata={'source': 'john_wick_1.csv', 'row': 0, 'Review_Date': '6 May 2015', 'Review_Title': ' Kinetic, concise, and stylish; John Wick kicks ass.\\n', 'Review_Url': '/review/rw3233896/?ref_=tt_urv', 'Author': 'lnvicta', 'Rating': 8, 'Movie_Title': 'John Wick 1', 'last_accessed_at': datetime.datetime(2025, 5, 15, 15, 9, 8, 768714)}, page_content=\": 0\\nReview: The best way I can describe John Wick is to picture Taken but instead of Liam Neeson it's Keanu Reeves and instead of his daughter it's his dog. That's essentially the plot of the movie. John Wick (Reeves) is out to seek revenge on the people who took something he loved from him. It's a beautifully simple premise for an action movie - when action movies get convoluted, they get bad i.e. A Good Day to Die Hard. John Wick gives the viewers what they want: Awesome action, stylish stunts, kinetic chaos, and a relatable hero to tie it all together. John Wick succeeds in its simplicity.\")"
            ]
          },
          "execution_count": 6,
          "metadata": {},
          "output_type": "execute_result"
        }
      ],
      "source": [
        "documents[0]"
      ]
    },
    {
      "cell_type": "markdown",
      "metadata": {
        "id": "lWaQpdHl0Gzc"
      },
      "source": [
        "## Setting up QDrant!\n",
        "\n",
        "Now that we have our documents, let's create a QDrant VectorStore with the collection name \"JohnWick\"."
      ]
    },
    {
      "cell_type": "code",
      "execution_count": 7,
      "metadata": {
        "id": "NT8ihRJbYmMT"
      },
      "outputs": [
        {
          "name": "stderr",
          "output_type": "stream",
          "text": [
            "/home/mafzaal/source/intro-to-ragas/Advanced_Retrieval_Evaluation/.venv/lib/python3.13/site-packages/qdrant_client/http/models/models.py:758: SyntaxWarning: invalid escape sequence '\\&'\n",
            "  description=\"Check that the field is empty, alternative syntax for `is_empty: \\&quot;field_name\\&quot;`\",\n",
            "/home/mafzaal/source/intro-to-ragas/Advanced_Retrieval_Evaluation/.venv/lib/python3.13/site-packages/qdrant_client/http/models/models.py:762: SyntaxWarning: invalid escape sequence '\\&'\n",
            "  description=\"Check that the field is null, alternative syntax for `is_null: \\&quot;field_name\\&quot;`\",\n"
          ]
        }
      ],
      "source": [
        "from langchain_community.vectorstores import Qdrant\n",
        "from langchain_openai import OpenAIEmbeddings\n",
        "\n",
        "embeddings = OpenAIEmbeddings(model=\"text-embedding-3-small\")\n",
        "\n",
        "vectorstore = Qdrant.from_documents(\n",
        "    documents,\n",
        "    embeddings,\n",
        "    location=\":memory:\",\n",
        "    collection_name=\"JohnWick\"\n",
        ")"
      ]
    },
    {
      "cell_type": "markdown",
      "metadata": {},
      "source": [
        "## RAG Prompt Template"
      ]
    },
    {
      "cell_type": "code",
      "execution_count": 16,
      "metadata": {},
      "outputs": [],
      "source": [
        "RAG_TEMPLATE = \"\"\"\\\n",
        "You are a helpful and kind assistant. Use the context provided below to answer the question.\n",
        "\n",
        "If you do not know the answer, or are unsure, say you don't know.\n",
        "\n",
        "Query:\n",
        "{question}\n",
        "\n",
        "Context:\n",
        "{context}\n",
        "\"\"\"\n",
        "\n"
      ]
    },
    {
      "cell_type": "code",
      "execution_count": 24,
      "metadata": {},
      "outputs": [],
      "source": [
        "from langchain_core.prompts import ChatPromptTemplate\n",
        "from langchain_openai import ChatOpenAI\n",
        "from langchain_core.runnables import RunnablePassthrough\n",
        "from operator import itemgetter\n",
        "from langchain_core.output_parsers import StrOutputParser\n",
        "\n",
        "\n",
        "chat_model = ChatOpenAI(model=\"gpt-4.1-nano\")\n",
        "\n",
        "def create_rag_chain(llm,retriever, template=RAG_TEMPLATE):\n",
        "    \"\"\"Create a RAG chain using the provided vectorstore and template.\"\"\"\n",
        "    prompt = ChatPromptTemplate.from_template(template)\n",
        "    \n",
        "    return (\n",
        "        {\"context\": itemgetter(\"question\") | retriever, \"question\": itemgetter(\"question\")}\n",
        "        | RunnablePassthrough.assign(context=itemgetter(\"context\"))\n",
        "        | {\"answer\": prompt | llm | StrOutputParser(), \"contexts\": itemgetter(\"context\")}\n",
        "    )\n",
        "\n"
      ]
    },
    {
      "cell_type": "markdown",
      "metadata": {
        "id": "-x2SS4Rh0hiN"
      },
      "source": [
        "## Naive RAG Chain"
      ]
    },
    {
      "cell_type": "code",
      "execution_count": 25,
      "metadata": {
        "id": "GFDPrNBtb72o"
      },
      "outputs": [],
      "source": [
        "naive_retriever = vectorstore.as_retriever(search_kwargs={\"k\": 10})\n",
        "\n",
        "naive_retrieval_chain = create_rag_chain(\n",
        "    chat_model, retriever=naive_retriever, template=RAG_TEMPLATE\n",
        ")\n"
      ]
    },
    {
      "cell_type": "code",
      "execution_count": 26,
      "metadata": {
        "colab": {
          "base_uri": "https://localhost:8080/",
          "height": 36
        },
        "id": "LI-5ueEddku9",
        "outputId": "7f3cec18-5f4e-41bb-cf71-51ba0be5388e"
      },
      "outputs": [
        {
          "data": {
            "text/plain": [
              "{'answer': 'Based on the reviews, people generally liked John Wick. The majority of reviews are quite positive, with ratings often high—many reviewers gave it 8 or 9 out of 10, praising its style, action sequences, and entertainment value. While there are some mixed opinions and a few lower ratings, overall, the sentiment indicates that people appreciated the film and regarded it as a strong action movie.',\n",
              " 'contexts': [Document(metadata={'source': 'john_wick_1.csv', 'row': 9, 'Review_Date': '20 October 2014', 'Review_Title': \" The coolest action film you'll see all year\\n\", 'Review_Url': '/review/rw3107759/?ref_=tt_urv', 'Author': 'trublu215', 'Rating': 9, 'Movie_Title': 'John Wick 1', 'last_accessed_at': '2025-05-15T15:09:08.768729', '_id': '117febd3e3fc4ab8a29102d62f1db260', '_collection_name': 'JohnWick'}, page_content=\": 9\\nReview: At first glance, John Wick sounds like a terrible film on paper but with the slickness of Keanu Reeves' performance as the titular character and the sheer brilliance in its action sequences, this marks the best action film of the year and one of the absolute best in the past decade. Following a brutal home invasion that leaves his beloved dog murdered by thugs from his past, John Wick vows revenge on the ones who have taken what he loves most. Like I said, on paper, this seems like a direct-to-DVD slopfest starring John Cena but as a film with Keanu Reeves as the lead, it marks the very welcomed return for Reeves to the genre. John Wick is insanely fun, violently brutal and an overall romp especially for those disappointed by The Expendables 3. John Wick is propelled by Tarantino-esque dialog mixed with the swagger of action stars from the 70s. Reeves literally emulates cool in this film and does it with such confidence, that we don't even doubt the character...even when he kills countless bad guys with extreme force in some utterly ridiculous and implausible situations. We don't doubt it for a minute. This is EXACTLY what you want out of an action film. It is briskly paced, brilliantly shot and meticulously choreographed and keeps you wanting more and more. The supporting cast filled with the likes of John Legiuzamo, Ian McShane, and Willen Dafoe also keeps this film very interesting. These guys don't play good guys, hell, John Wick by traditional standards would be a bad guy in any other film. Every character is more ruthless than the next and pushes John Wick to be more ruthless than they are, creating a very cool dynamic between the character and the plot regarding the idea of how far is too far? However, don't expect some revelation from John Wick regarding the morality of bad and evil. This film wants you entertained and does so with brute force, it never lets up, not even for a second. One scene in particular that will have your blood pumping is a showdown between thugs and Wick in a nightclub. This action sequence remains the best in the film and will have you grasping your theater seat because of the sheer intensity of it. Overall, John Wick is slick, violent fun that turns into a remarkable, surprising film that will catch you off guard. It is THAT good. I highly recommend this film to action buffs especially but I'm sure those who just like a good movie will love it as well.\"),\n",
              "  Document(metadata={'source': 'john_wick_1.csv', 'row': 20, 'Review_Date': '22 October 2014', 'Review_Title': ' Smoothest action film to come around in a long time\\n', 'Review_Url': '/review/rw3109271/?ref_=tt_urv', 'Author': 'IceSkateUpHill', 'Rating': 10, 'Movie_Title': 'John Wick 1', 'last_accessed_at': '2025-05-15T15:09:08.768736', '_id': 'dda70a22ffde486189e878112c4a7f7e', '_collection_name': 'JohnWick'}, page_content=\": 20\\nReview: John Wick is something special. It takes as much time setting up elaborate action sequences as it does the world with which it all takes place in. And what a world it is. It reminds me of Millers Crossing and it is cooler than any other recent attempt at noir. We are shown a criminal underworld where, if you are connected, many powerful people know who you are and show you respect. John Wick was connected but he got out. He is the rare killer who has found peace, and he is grateful for that peace. Some young kids steal that from him and he does what he does best, he wages a one man war against the Russian Mafia. It might sound like the film takes quite a leap but it all makes sense. The motives of John and the people who get in the way of his bullets are all very clear, even if it does come across as rather simple. That's the plot at it's most basic. Then there's the action. The film is directed by Reeve's stuntman from The Matrix, so this guy knows action. There are sequences that flow so smoothly it puts other action films and their quick cuts to shame. Keaunu moves so fluidly throughout the film and comes across as such a natural that the only disappointment is that we have not seen him like this before. Along the way are plenty of character actors, fans of The Matrix and The Wire will recognize a few people then there are more obvious ones like Ian McShane and Willem Dafoe. Everyone seems to be having a good time. That is another plus for this movie. It get's dark at times but overall it is quite fun, not very chipper, but fun. I cannot recommend this movie enough. I believe it is a must see for action fans and for anyone looking for something a bit different from the usual fare.\"),\n",
              "  Document(metadata={'source': 'john_wick_3.csv', 'row': 5, 'Review_Date': '17 July 2019', 'Review_Title': ' The magic is gone\\n', 'Review_Url': '/review/rw4999970/?ref_=tt_urv', 'Author': 'soundoflight', 'Rating': 5, 'Movie_Title': 'John Wick 3', 'last_accessed_at': '2025-05-17T15:09:08.769274', '_id': 'e56b1b1837224850a45bbbbea38697b9', '_collection_name': 'JohnWick'}, page_content=': 5\\nReview: The first John Wick film was special because it broke a mold of sorts. It went against certain action film conventions - the hero was not a muscle bound hulk like a Schwarzenegger or Stallone, the action was super fast paced, the plot was basic and straighforward, but introduced some unique elements, and there was something a bit unique and stylish about the film. John Wick was cool.'),\n",
              "  Document(metadata={'source': 'john_wick_4.csv', 'row': 14, 'Review_Date': '23 March 2023', 'Review_Title': ' Yeah\\n', 'Review_Url': '/review/rw8946621/?ref_=tt_urv', 'Author': 'markvanwasbeek', 'Rating': 9, 'Movie_Title': 'John Wick 4', 'last_accessed_at': '2025-05-18T15:09:08.769535', '_id': '0e7cf4f55f79404d83f63199447ca942', '_collection_name': 'JohnWick'}, page_content=\": 14\\nReview: By now you know what to expect from a John Wick movie. I thought the franchise was losing a little momentum in chapter 3 so I was worried this could be disappointing. It's not. It's even more on steroids than any Wick before! Even close to 3 hours it doesn't feel to long which is very special for a action movie. This franchise has set new standards. If anybody says a movie is good like John Wick, it better f'n be! The set pieces as everyone mentioned before are really insane this time. The Tokyo sceney with illuminated cherry blossoms was beautiful. The only super illogical thing that bothered me was that nobody flinched at the nightclub, eventually they did but after a whole 10 minute beatdown through the whole club, but then again it's a shady nightclub for high table people. If you liked the first three movies, get your ass to the cinema. Yeah.\"),\n",
              "  Document(metadata={'source': 'john_wick_1.csv', 'row': 0, 'Review_Date': '6 May 2015', 'Review_Title': ' Kinetic, concise, and stylish; John Wick kicks ass.\\n', 'Review_Url': '/review/rw3233896/?ref_=tt_urv', 'Author': 'lnvicta', 'Rating': 8, 'Movie_Title': 'John Wick 1', 'last_accessed_at': '2025-05-15T15:09:08.768714', '_id': '41244f369fe64b25b640027cbbb8e68d', '_collection_name': 'JohnWick'}, page_content=\": 0\\nReview: The best way I can describe John Wick is to picture Taken but instead of Liam Neeson it's Keanu Reeves and instead of his daughter it's his dog. That's essentially the plot of the movie. John Wick (Reeves) is out to seek revenge on the people who took something he loved from him. It's a beautifully simple premise for an action movie - when action movies get convoluted, they get bad i.e. A Good Day to Die Hard. John Wick gives the viewers what they want: Awesome action, stylish stunts, kinetic chaos, and a relatable hero to tie it all together. John Wick succeeds in its simplicity.\"),\n",
              "  Document(metadata={'source': 'john_wick_2.csv', 'row': 6, 'Review_Date': '14 February 2017', 'Review_Title': \" John Wick: Chapter 2 continues it's faced paced, neo-noir story of our assassin\\n\", 'Review_Url': '/review/rw3639868/?ref_=tt_urv', 'Author': 'RforFilm', 'Rating': 8, 'Movie_Title': 'John Wick 2', 'last_accessed_at': '2025-05-16T15:09:08.769003', '_id': 'f3f8205e7b334c8c95f95ff90bb48d18', '_collection_name': 'JohnWick'}, page_content=\": 6\\nReview: In 2014, a Keanu Reeves revenge thriller John Wick became a surprise hit. I originally skipped out on the film as I felt that the trailers only showed an assassin story that I felt I've seen before. As far as I'm concerned, I made a big mistake. Before seeing the sequel, I felt it was important to watch the first one. I rented it on Amazon Prime and I was shock by what I saw; a dark, stylish, and fun action movie that is doing it's own thing. Though I've seen plenty stories about revenge (The Count of Monte Cristo and Moby Dick being the prime examples), I can't recall one over someone's pet being murdered.\"),\n",
              "  Document(metadata={'source': 'john_wick_4.csv', 'row': 20, 'Review_Date': '23 March 2023', 'Review_Title': ' THIS is how you justify a 3 hour runtime\\n', 'Review_Url': '/review/rw8946038/?ref_=tt_urv', 'Author': 'jtindahouse', 'Rating': 9, 'Movie_Title': 'John Wick 4', 'last_accessed_at': '2025-05-18T15:09:08.769538', '_id': '9fd9e9b6f3974a2ea127041921759cfd', '_collection_name': 'JohnWick'}, page_content=\": 20\\nReview: In a world where movie sequels seem to be loathed even before they are released, the 'John Wick' series has remained remarkably consistent and well received. In fact all three of the first films have the same IMDb rating of 7.4/10 and I noticed recently that I gave them all the same rating of 8/10. Incredibly, I think 'John Wick: Chapter 4' is the best the series has to offer. This movie was a wild ride.\"),\n",
              "  Document(metadata={'source': 'john_wick_1.csv', 'row': 2, 'Review_Date': '5 May 2023', 'Review_Title': \" You don't mess with another person's dog. It's as simple as that!\\n\", 'Review_Url': '/review/rw9033669/?ref_=tt_urv', 'Author': 'Coventry', 'Rating': 5, 'Movie_Title': 'John Wick 1', 'last_accessed_at': '2025-05-15T15:09:08.768724', '_id': '4d07be0da7c24f7c8f34fd94bcfd6f30', '_collection_name': 'JohnWick'}, page_content=': 2\\nReview: With the fourth installment scoring immensely at the cinemas as I\\'m submitting this review, and after three previous films that are apparently loved by everyone else in the world, I thought perhaps it would be time for me check out \"John Wick\".'),\n",
              "  Document(metadata={'source': 'john_wick_1.csv', 'row': 5, 'Review_Date': '23 March 2023', 'Review_Title': ' Violent and gripping story with plenty of unstopped action , shootouts and breathtaking fights\\n', 'Review_Url': '/review/rw8945545/?ref_=tt_urv', 'Author': 'ma-cortes', 'Rating': 7, 'Movie_Title': 'John Wick 1', 'last_accessed_at': '2025-05-15T15:09:08.768726', '_id': '3cf0365061ea4c03b39ce9a03bf6ef53', '_collection_name': 'JohnWick'}, page_content=\": 5\\nReview: Ultra-violent first entry with lots of killings, thrills , noisy action , suspense , and crossfire . In this original John Wick (2014) , an ex-hit-man comes out of retirement to track down the gangsters that killed his dog and took everything from him . With the untimely death of his beloved wife still bitter in his mouth he seeks for vengeance . But when an arrogant Russian mob prince and hoodlums steal his car and kill his dog , they are fully aware of his lethal capacity. The Bogeyman will find himself dragged into an impossible task as every killer in the business dreams of cornering the legendary Wick who now has an enormous price on his head . In this first installment John Wick , blind with revenge, and for his salvation John will immediately unleash a carefully orchestrated maelstrom of destruction against those attempt to chase him and with a price tag on his head, as he is the target of hit men : an army of bounty-hunting killers on his trail and a murderer woman everywhere . The legendary hitman will be forced to unearth his meticulously concealed identity and to carry out a relentless vendetta . Now, only blood can quench the boogeyman's thirst for retribution . Don't Set Him Off! . John Wick isn't the Boogeyman... He's the guy you send to kill the doomed Boogeyman. Revenge is all he has left. You want peace, prepare for war . Don't Hunt What You Can't Kill. Tick Tock, Mr. Wick. Everyone Is Waiting. For John Wick . Every Action Has Consequences. This Friday, Wick is Back . Its the World Vs. Wick. Every Action Has Consequences.\"),\n",
              "  Document(metadata={'source': 'john_wick_1.csv', 'row': 19, 'Review_Date': '14 April 2023', 'Review_Title': \" I Don't Get It\\n\", 'Review_Url': '/review/rw8991670/?ref_=tt_urv', 'Author': 'xiaoli7377', 'Rating': 6, 'Movie_Title': 'John Wick 1', 'last_accessed_at': '2025-05-15T15:09:08.768736', '_id': '89db0a47e0024292ae4351644cb38405', '_collection_name': 'JohnWick'}, page_content=': 19\\nReview: I really don\\'t understand the love that \"John Wick\" receives. It\\'s just kind of a generic action thriller to me. No different than a \"Bourne\" or \"Taken\" movie. It gets a slight bump for me in a rating of 6 instead of 5 because I did think that the cinematography was really good and also the fight choreography was top notch. I can definitely see the influence of martial arts films on this.')]}"
            ]
          },
          "execution_count": 26,
          "metadata": {},
          "output_type": "execute_result"
        }
      ],
      "source": [
        "naive_retrieval_chain.invoke({\"question\" : \"Did people generally like John Wick?\"})"
      ]
    },
    {
      "cell_type": "markdown",
      "metadata": {
        "id": "jsbfQmbr1leg"
      },
      "source": [
        "Overall, this is not bad! Let's see if we can make it better!"
      ]
    },
    {
      "cell_type": "markdown",
      "metadata": {
        "id": "Ft1vt8HPR16w"
      },
      "source": [
        "## Best-Matching 25 (BM25) Retriever\n",
        "\n",
        "Taking a step back in time - [BM25](https://www.nowpublishers.com/article/Details/INR-019) is based on [Bag-Of-Words](https://en.wikipedia.org/wiki/Bag-of-words_model) which is a sparse representation of text.\n",
        "\n",
        "In essence, it's a way to compare how similar two pieces of text are based on the words they both contain.\n",
        "\n",
        "This retriever is very straightforward to set-up! Let's see it happen down below!\n"
      ]
    },
    {
      "cell_type": "code",
      "execution_count": null,
      "metadata": {
        "id": "qdF4wuj5R-cG"
      },
      "outputs": [],
      "source": [
        "from langchain_community.retrievers import BM25Retriever\n",
        "\n",
        "bm25_retriever = BM25Retriever.from_documents(documents)\n",
        "\n",
        "bm25_retrieval_chain = create_rag_chain(\n",
        "    chat_model, retriever=bm25_retriever, template=RAG_TEMPLATE\n",
        ")"
      ]
    },
    {
      "cell_type": "markdown",
      "metadata": {
        "id": "0Gi-yXCDdvJk"
      },
      "source": [
        "Let's look at the responses!"
      ]
    },
    {
      "cell_type": "code",
      "execution_count": 32,
      "metadata": {
        "colab": {
          "base_uri": "https://localhost:8080/",
          "height": 36
        },
        "id": "igfinyneSQkh",
        "outputId": "9752d4a9-dd16-45b1-f63f-a76e93a05eb3"
      },
      "outputs": [
        {
          "data": {
            "text/plain": [
              "'Based on the provided reviews, there are no reviews with a rating of 10.'"
            ]
          },
          "execution_count": 32,
          "metadata": {},
          "output_type": "execute_result"
        }
      ],
      "source": [
        "bm25_retrieval_chain.invoke({\"question\" : \"Do any reviews have a rating of 10? If so - can I have the URLs to those reviews?\"})[\"answer\"]"
      ]
    },
    {
      "cell_type": "markdown",
      "metadata": {
        "id": "zvg5xHaUdxCl"
      },
      "source": [
        "It's not clear that this is better or worse - but the `I don't know` isn't great!"
      ]
    },
    {
      "cell_type": "markdown",
      "metadata": {
        "id": "Q-dcbFn2vpZF"
      },
      "source": [
        "## Contextual Compression (Using Reranking)\n",
        "\n",
        "Contextual Compression is a fairly straightforward idea: We want to \"compress\" our retrieved context into just the most useful bits.\n",
        "\n",
        "There are a few ways we can achieve this - but we're going to look at a specific example called reranking.\n",
        "\n",
        "The basic idea here is this:\n",
        "\n",
        "- We retrieve lots of documents that are very likely related to our query vector\n",
        "- We \"compress\" those documents into a smaller set of *more* related documents using a reranking algorithm.\n",
        "\n",
        "We'll be leveraging Cohere's Rerank model for our reranker today!\n",
        "\n",
        "All we need to do is the following:\n",
        "\n",
        "- Create a basic retriever\n",
        "- Create a compressor (reranker, in this case)\n",
        "\n",
        "That's it!\n",
        "\n",
        "Let's see it in the code below!"
      ]
    },
    {
      "cell_type": "code",
      "execution_count": 35,
      "metadata": {
        "id": "psHvO2K1v_ZQ"
      },
      "outputs": [],
      "source": [
        "from langchain.retrievers.contextual_compression import ContextualCompressionRetriever\n",
        "from langchain_cohere import CohereRerank\n",
        "\n",
        "compressor = CohereRerank(model=\"rerank-english-v3.0\")\n",
        "compression_retriever = ContextualCompressionRetriever(\n",
        "    base_compressor=compressor, base_retriever=naive_retriever\n",
        ")\n",
        "\n",
        "contextual_compression_retrieval_chain = create_rag_chain(\n",
        "    chat_model, retriever=compression_retriever, template=RAG_TEMPLATE\n",
        ")"
      ]
    },
    {
      "cell_type": "markdown",
      "metadata": {},
      "source": [
        "Let's look at the responses!"
      ]
    },
    {
      "cell_type": "code",
      "execution_count": 37,
      "metadata": {
        "colab": {
          "base_uri": "https://localhost:8080/",
          "height": 36
        },
        "id": "V3iGpokswcBb",
        "outputId": "f15d2aa1-5e8b-417d-f623-eb835d072e59"
      },
      "outputs": [
        {
          "data": {
            "text/plain": [
              "\"Based on the reviews provided, people generally liked John Wick. The reviews are highly positive, with ratings of 9 and 10 out of 10, highlighting its stylishness, action sequences, and Keanu Reeves' performance. Although there is one mixed review with a rating of 5, the overall sentiment from the majority of the reviews suggests that viewers generally liked the film.\""
            ]
          },
          "execution_count": 37,
          "metadata": {},
          "output_type": "execute_result"
        }
      ],
      "source": [
        "contextual_compression_retrieval_chain.invoke({\"question\" : \"Did people generally like John Wick?\"})[\"answer\"]"
      ]
    },
    {
      "cell_type": "markdown",
      "metadata": {
        "id": "OEbT0g2S-mZ4"
      },
      "source": [
        "We'll need to rely on something like Ragas to help us get a better sense of how this is performing overall - but it \"feels\" better!"
      ]
    },
    {
      "cell_type": "markdown",
      "metadata": {
        "id": "qqbghrBEQNn5"
      },
      "source": [
        "## Multi-Query Retriever\n",
        "\n",
        "Typically in RAG we have a single query - the one provided by the user.\n",
        "\n",
        "What if we had....more than one query!\n",
        "\n",
        "In essence, a Multi-Query Retriever works by:\n",
        "\n",
        "1. Taking the original user query and creating `n` number of new user queries using an LLM.\n",
        "2. Retrieving documents for each query.\n",
        "3. Using all unique retrieved documents as context\n",
        "\n",
        "So, how is it to set-up? Not bad! Let's see it down below!\n",
        "\n"
      ]
    },
    {
      "cell_type": "code",
      "execution_count": 39,
      "metadata": {
        "id": "pfM26ReXQjzU"
      },
      "outputs": [],
      "source": [
        "from langchain.retrievers.multi_query import MultiQueryRetriever\n",
        "\n",
        "multi_query_retriever = MultiQueryRetriever.from_llm(\n",
        "    retriever=naive_retriever, llm=chat_model\n",
        ")\n",
        "\n",
        "multi_query_retrieval_chain = create_rag_chain(\n",
        "    chat_model, retriever=multi_query_retriever, template=RAG_TEMPLATE\n",
        ")"
      ]
    },
    {
      "cell_type": "code",
      "execution_count": 40,
      "metadata": {
        "colab": {
          "base_uri": "https://localhost:8080/",
          "height": 53
        },
        "id": "CGgNuOb3Q3M9",
        "outputId": "c5273ecf-da35-40b8-fbdb-0f8beab425f7"
      },
      "outputs": [
        {
          "data": {
            "text/plain": [
              "\"Based on the reviews in the provided context, people generally liked John Wick. The films received high ratings such as 9 and 10 from some reviewers, and many praised its stylish action sequences, Keanu Reeves' performance, and entertainment value. While there are some negative reviews criticizing over-the-top action or lack of plot, the overall sentiment appears to be positive, indicating that most people generally enjoyed John Wick.\""
            ]
          },
          "execution_count": 40,
          "metadata": {},
          "output_type": "execute_result"
        }
      ],
      "source": [
        "multi_query_retrieval_chain.invoke({\"question\" : \"Did people generally like John Wick?\"})[\"answer\"]"
      ]
    },
    {
      "cell_type": "markdown",
      "metadata": {
        "id": "EDEawBf_d_3G"
      },
      "source": [
        "## Parent Document Retriever\n",
        "\n",
        "A \"small-to-big\" strategy - the Parent Document Retriever works based on a simple strategy:\n",
        "\n",
        "1. Each un-split \"document\" will be designated as a \"parent document\" (You could use larger chunks of document as well, but our data format allows us to consider the overall document as the parent chunk)\n",
        "2. Store those \"parent documents\" in a memory store (not a VectorStore)\n",
        "3. We will chunk each of those documents into smaller documents, and associate them with their respective parents, and store those in a VectorStore. We'll call those \"child chunks\".\n",
        "4. When we query our Retriever, we will do a similarity search comparing our query vector to the \"child chunks\".\n",
        "5. Instead of returning the \"child chunks\", we'll return their associated \"parent chunks\".\n",
        "\n",
        "Okay, maybe that was a few steps - but the basic idea is this:\n",
        "\n",
        "- Search for small documents\n",
        "- Return big documents\n",
        "\n",
        "The intuition is that we're likely to find the most relevant information by limiting the amount of semantic information that is encoded in each embedding vector - but we're likely to miss relevant surrounding context if we only use that information.\n",
        "\n",
        "Let's start by creating our \"parent documents\" and defining a `RecursiveCharacterTextSplitter`."
      ]
    },
    {
      "cell_type": "code",
      "execution_count": 43,
      "metadata": {
        "id": "qJ53JJuMd_ZH"
      },
      "outputs": [
        {
          "name": "stderr",
          "output_type": "stream",
          "text": [
            "/tmp/ipykernel_1575094/3419071653.py:15: LangChainDeprecationWarning: The class `Qdrant` was deprecated in LangChain 0.0.37 and will be removed in 1.0. An updated version of the class exists in the :class:`~langchain-qdrant package and should be used instead. To use it run `pip install -U :class:`~langchain-qdrant` and import as `from :class:`~langchain_qdrant import Qdrant``.\n",
            "  parent_document_vectorstore = Qdrant(\n"
          ]
        }
      ],
      "source": [
        "from langchain.retrievers import ParentDocumentRetriever\n",
        "from langchain.storage import InMemoryStore\n",
        "from langchain_text_splitters import RecursiveCharacterTextSplitter\n",
        "from qdrant_client import QdrantClient, models\n",
        "\n",
        "parent_docs = documents\n",
        "child_splitter = RecursiveCharacterTextSplitter(chunk_size=200)\n",
        "client = QdrantClient(location=\":memory:\")\n",
        "\n",
        "client.create_collection(\n",
        "    collection_name=\"full_documents\",\n",
        "    vectors_config=models.VectorParams(size=1536, distance=models.Distance.COSINE)\n",
        ")\n",
        "\n",
        "parent_document_vectorstore = Qdrant(\n",
        "    collection_name=\"full_documents\", embeddings=OpenAIEmbeddings(model=\"text-embedding-3-small\"), client=client\n",
        ")\n",
        "\n",
        "store = InMemoryStore()\n",
        "\n",
        "parent_document_retriever = ParentDocumentRetriever(\n",
        "    vectorstore = parent_document_vectorstore,\n",
        "    docstore=store,\n",
        "    child_splitter=child_splitter,\n",
        ")\n",
        "parent_document_retriever.add_documents(parent_docs, ids=None)\n",
        "\n",
        "parent_document_retrieval_chain = create_rag_chain(\n",
        "    chat_model, retriever=parent_document_retriever, template=RAG_TEMPLATE\n",
        ")"
      ]
    },
    {
      "cell_type": "markdown",
      "metadata": {
        "id": "jNolUVQb4Apt"
      },
      "source": [
        "Let's give it a whirl!"
      ]
    },
    {
      "cell_type": "code",
      "execution_count": 44,
      "metadata": {
        "colab": {
          "base_uri": "https://localhost:8080/",
          "height": 70
        },
        "id": "TXB5i89Zly5W",
        "outputId": "94c240be-7c5b-4c58-9eee-56d93285a054"
      },
      "outputs": [
        {
          "data": {
            "text/plain": [
              "'Based on the provided reviews, people generally liked John Wick. The majority of positive reviews praise the series, with one reviewer calling it \"beautifully choreographed\" and highly recommend it. Although there is at least one negative review describing John Wick 4 as a \"HORRIBLE\" movie, overall, the positive comments and ratings suggest that people tend to enjoy the series.'"
            ]
          },
          "execution_count": 44,
          "metadata": {},
          "output_type": "execute_result"
        }
      ],
      "source": [
        "parent_document_retrieval_chain.invoke({\"question\" : \"Did people generally like John Wick?\"})[\"answer\"]"
      ]
    },
    {
      "cell_type": "markdown",
      "metadata": {
        "id": "B41cj42s4DPM"
      },
      "source": [
        "Overall, the performance *seems* largely the same. We can leverage a tool like [Ragas]() to more effectively answer the question about the performance."
      ]
    },
    {
      "cell_type": "markdown",
      "metadata": {
        "id": "VUrIBKl_TwS9"
      },
      "source": [
        "## Ensemble Retriever\n",
        "\n",
        "In brief, an Ensemble Retriever simply takes 2, or more, retrievers and combines their retrieved documents based on a rank-fusion algorithm.\n",
        "\n",
        "In this case - we're using the [Reciprocal Rank Fusion](https://plg.uwaterloo.ca/~gvcormac/cormacksigir09-rrf.pdf) algorithm.\n",
        "\n",
        "Setting it up is as easy as providing a list of our desired retrievers - and the weights for each retriever."
      ]
    },
    {
      "cell_type": "code",
      "execution_count": 45,
      "metadata": {
        "id": "8j7jpZsKTxic"
      },
      "outputs": [],
      "source": [
        "from langchain.retrievers import EnsembleRetriever\n",
        "\n",
        "retriever_list = [bm25_retriever, naive_retriever, parent_document_retriever, compression_retriever, multi_query_retriever]\n",
        "equal_weighting = [1/len(retriever_list)] * len(retriever_list)\n",
        "\n",
        "ensemble_retriever = EnsembleRetriever(\n",
        "    retrievers=retriever_list, weights=equal_weighting\n",
        ")\n",
        "\n",
        "ensemble_retrieval_chain = create_rag_chain(\n",
        "    chat_model, retriever=ensemble_retriever, template=RAG_TEMPLATE\n",
        ")"
      ]
    },
    {
      "cell_type": "markdown",
      "metadata": {
        "id": "SSsvHpRMj24L"
      },
      "source": [
        "Let's look at our results!"
      ]
    },
    {
      "cell_type": "code",
      "execution_count": 47,
      "metadata": {
        "colab": {
          "base_uri": "https://localhost:8080/",
          "height": 70
        },
        "id": "0lMvqL88UQI-",
        "outputId": "d86dd5f7-0a13-4836-c0ce-cc4c431fd889"
      },
      "outputs": [
        {
          "data": {
            "text/plain": [
              "'Based on the reviews provided, people generally liked John Wick. Many reviews are highly positive, praising its action, style, and entertainment value, with some ratings close to perfect scores. However, there are also some mixed or negative reviews expressing disappointment or criticism of certain elements. Overall, the majority of reviewers seem to have a favorable opinion of John Wick.'"
            ]
          },
          "execution_count": 47,
          "metadata": {},
          "output_type": "execute_result"
        }
      ],
      "source": [
        "ensemble_retrieval_chain.invoke({\"question\" : \"Did people generally like John Wick?\"})[\"answer\"]"
      ]
    },
    {
      "cell_type": "markdown",
      "metadata": {},
      "source": [
        "## Generate Synthetic Data"
      ]
    },
    {
      "cell_type": "code",
      "execution_count": 48,
      "metadata": {},
      "outputs": [
        {
          "data": {
            "application/vnd.jupyter.widget-view+json": {
              "model_id": "82799c106f9141f3a39ee4d6e1ebb44e",
              "version_major": 2,
              "version_minor": 0
            },
            "text/plain": [
              "Applying SummaryExtractor:   0%|          | 0/44 [00:00<?, ?it/s]"
            ]
          },
          "metadata": {},
          "output_type": "display_data"
        },
        {
          "data": {
            "application/vnd.jupyter.widget-view+json": {
              "model_id": "c95d0efa7a114d169ed3611c4fbc1071",
              "version_major": 2,
              "version_minor": 0
            },
            "text/plain": [
              "Applying CustomNodeFilter:   0%|          | 0/100 [00:00<?, ?it/s]"
            ]
          },
          "metadata": {},
          "output_type": "display_data"
        },
        {
          "name": "stderr",
          "output_type": "stream",
          "text": [
            "Node 25b69217-d2b5-4f01-9309-1ba668f586e1 does not have a summary. Skipping filtering.\n",
            "Node 73fc9fd7-6ce5-4ac2-b7cd-98c4fbeb8ba9 does not have a summary. Skipping filtering.\n",
            "Node 0e5d82ca-a1df-438d-8d9e-be363c7663d7 does not have a summary. Skipping filtering.\n",
            "Node a4433134-6c85-45f4-8e06-3b12176d6e0d does not have a summary. Skipping filtering.\n",
            "Node 821934f0-2fd4-42d7-9c79-a7313c97510d does not have a summary. Skipping filtering.\n",
            "Node 5a09a6a7-011c-4e94-b1ec-58ebd8ab2eb7 does not have a summary. Skipping filtering.\n",
            "Node 52803da1-aa1c-4e02-a7c4-0a5d7eab19fc does not have a summary. Skipping filtering.\n",
            "Node 079381f5-62aa-47ca-9551-c6f47b5e5491 does not have a summary. Skipping filtering.\n",
            "Node c28ce429-e5d2-4a65-81af-1d371bf76cb9 does not have a summary. Skipping filtering.\n",
            "Node d96b7034-b55f-4c6a-8101-5b66b213d7f2 does not have a summary. Skipping filtering.\n",
            "Node de436da4-0cbe-4756-a47c-6939cddc6278 does not have a summary. Skipping filtering.\n",
            "Node d4f6551d-3a3f-44eb-8c92-a240e69f9c33 does not have a summary. Skipping filtering.\n",
            "Node 282d6edb-4962-407f-ac16-cba4fc5e9098 does not have a summary. Skipping filtering.\n",
            "Node f671aeac-1bae-4d7f-a153-c84197d6d4aa does not have a summary. Skipping filtering.\n",
            "Node cf1d3b62-53ea-4197-aaac-c89c50632051 does not have a summary. Skipping filtering.\n",
            "Node 1c008868-8110-4dd2-81fe-ca255fd7f48d does not have a summary. Skipping filtering.\n",
            "Node 0dee44c6-ef55-4076-b234-e9934c990ca1 does not have a summary. Skipping filtering.\n",
            "Node f6f92f37-a64a-43eb-86c5-e3e754dc8fcc does not have a summary. Skipping filtering.\n",
            "Node 4ae7ef58-a918-42e9-8f3d-2add876132b0 does not have a summary. Skipping filtering.\n",
            "Node df0a5720-f5de-44cd-bb43-f331218e5621 does not have a summary. Skipping filtering.\n",
            "Node c616b4f4-1250-47df-8ad4-db3adcb9af09 does not have a summary. Skipping filtering.\n",
            "Node fca6def8-2520-4942-867c-c0d374a34c31 does not have a summary. Skipping filtering.\n",
            "Node 5e6be83b-0dd1-4351-af6a-00fb9aa8fb49 does not have a summary. Skipping filtering.\n",
            "Node 7b39af29-3b4a-48f5-8352-0fb8418722f7 does not have a summary. Skipping filtering.\n",
            "Node 9ac7f63c-07c6-4321-9519-b9c2e5bf002d does not have a summary. Skipping filtering.\n",
            "Node 34aa6412-a742-4f70-92a6-515c094c1573 does not have a summary. Skipping filtering.\n",
            "Node fbc29ce1-688b-4a01-be01-cd22de2969cc does not have a summary. Skipping filtering.\n",
            "Node 8da4ca0f-bad9-4d12-9761-e4f6ed751940 does not have a summary. Skipping filtering.\n",
            "Node 1372ef41-fa89-4ca1-ba9a-66feb9bea639 does not have a summary. Skipping filtering.\n",
            "Node 2364f944-b33b-4c6b-8f19-8401c0cb572b does not have a summary. Skipping filtering.\n",
            "Node 0dc1afc2-3ffa-4a86-8858-221e5c0ae0b3 does not have a summary. Skipping filtering.\n",
            "Node ce5fbdfa-0e0a-461b-b6ba-c7e9252f3398 does not have a summary. Skipping filtering.\n",
            "Node c44eb323-4064-4826-9684-761228700a1d does not have a summary. Skipping filtering.\n",
            "Node e1db3108-6581-4e09-a839-b5f35dc77828 does not have a summary. Skipping filtering.\n",
            "Node a8fca52f-c1e7-4c58-bb9a-2f3758a77df4 does not have a summary. Skipping filtering.\n",
            "Node c5449441-c72c-4587-992a-66ee576ec661 does not have a summary. Skipping filtering.\n",
            "Node 0b8d2e4c-578e-4199-9263-afad220fe2a3 does not have a summary. Skipping filtering.\n",
            "Node 33e2f707-136a-4cea-b817-5ea6bbce1f57 does not have a summary. Skipping filtering.\n",
            "Node a572b39e-b3bd-401e-998e-c108b332c3dd does not have a summary. Skipping filtering.\n",
            "Node 6f61b3cd-b56c-499f-8047-014ce146abab does not have a summary. Skipping filtering.\n",
            "Node 504fa605-cab0-4c4b-a1fe-525c0a9e6444 does not have a summary. Skipping filtering.\n",
            "Node 0a24c165-21a1-4b0b-bff5-dc9e0d5a0348 does not have a summary. Skipping filtering.\n",
            "Node 6eb74cbc-1c91-48a5-b353-35aec2d9a72e does not have a summary. Skipping filtering.\n",
            "Node 62bac1bc-6be9-4fce-8c36-76e6f1d97592 does not have a summary. Skipping filtering.\n",
            "Node 3f57e085-934d-4305-947e-50b1048fafa1 does not have a summary. Skipping filtering.\n",
            "Node 7dc03275-1666-481c-b562-b037e62afdbe does not have a summary. Skipping filtering.\n",
            "Node bca5176f-2140-46b8-8b3c-8f7440b1343b does not have a summary. Skipping filtering.\n",
            "Node 01943fcd-cdfe-4e06-9e50-4141d8b74af8 does not have a summary. Skipping filtering.\n",
            "Node da20f233-77fa-4109-ad65-0e2bba6d9df0 does not have a summary. Skipping filtering.\n",
            "Node ca6e9118-2023-4139-abcb-9a87d332f239 does not have a summary. Skipping filtering.\n",
            "Node 9875ca0b-950c-41ce-abc5-e82893ea55fa does not have a summary. Skipping filtering.\n",
            "Node 5204e5a7-83ea-4168-a7e8-959e49d073a8 does not have a summary. Skipping filtering.\n",
            "Node 4395ff95-917f-4218-8284-897a0c4bab69 does not have a summary. Skipping filtering.\n",
            "Node eb7ebbb9-cf50-4d0f-885c-3f53afd3317f does not have a summary. Skipping filtering.\n",
            "Node 3e07775c-274a-4059-b8d2-ff24098be805 does not have a summary. Skipping filtering.\n",
            "Node eeebce03-881a-4b37-b91d-596ea7fd37f0 does not have a summary. Skipping filtering.\n"
          ]
        },
        {
          "data": {
            "application/vnd.jupyter.widget-view+json": {
              "model_id": "f867949c5c9c49eeb3fcc747fa4ed9a6",
              "version_major": 2,
              "version_minor": 0
            },
            "text/plain": [
              "Applying [EmbeddingExtractor, ThemesExtractor, NERExtractor]:   0%|          | 0/244 [00:00<?, ?it/s]"
            ]
          },
          "metadata": {},
          "output_type": "display_data"
        },
        {
          "data": {
            "application/vnd.jupyter.widget-view+json": {
              "model_id": "2e81d1bd87544324ba530320e88cd106",
              "version_major": 2,
              "version_minor": 0
            },
            "text/plain": [
              "Applying [CosineSimilarityBuilder, OverlapScoreBuilder]:   0%|          | 0/2 [00:00<?, ?it/s]"
            ]
          },
          "metadata": {},
          "output_type": "display_data"
        },
        {
          "data": {
            "application/vnd.jupyter.widget-view+json": {
              "model_id": "20fd5493ac7c4a7cb97bdb7769973be9",
              "version_major": 2,
              "version_minor": 0
            },
            "text/plain": [
              "Generating personas:   0%|          | 0/3 [00:00<?, ?it/s]"
            ]
          },
          "metadata": {},
          "output_type": "display_data"
        },
        {
          "data": {
            "application/vnd.jupyter.widget-view+json": {
              "model_id": "49769b37684940ac9d31ef0079e290cb",
              "version_major": 2,
              "version_minor": 0
            },
            "text/plain": [
              "Generating Scenarios:   0%|          | 0/3 [00:00<?, ?it/s]"
            ]
          },
          "metadata": {},
          "output_type": "display_data"
        },
        {
          "data": {
            "application/vnd.jupyter.widget-view+json": {
              "model_id": "4e640935ea084c01ba8bcdc975426f62",
              "version_major": 2,
              "version_minor": 0
            },
            "text/plain": [
              "Generating Samples:   0%|          | 0/12 [00:00<?, ?it/s]"
            ]
          },
          "metadata": {},
          "output_type": "display_data"
        }
      ],
      "source": [
        "from ragas.run_config import RunConfig\n",
        "from ragas.testset import TestsetGenerator\n",
        "from ragas.llms import LangchainLLMWrapper\n",
        "from ragas.embeddings import LangchainEmbeddingsWrapper\n",
        "from langchain_huggingface import HuggingFaceEmbeddings\n",
        "from langchain_xai import ChatXAI\n",
        "\n",
        "grok = ChatXAI(model=\"grok-3-latest\")\n",
        "# Create a RunConfig with rate limit settings\n",
        "my_run_config = RunConfig(\n",
        "    max_workers=8,      # Control concurrent requests (default is 16)\n",
        "    timeout=180,         # Maximum time to wait for a single operation (default is 180s)\n",
        "    max_retries=10,      # Maximum number of retry attempts (default is 10)\n",
        "    max_wait=120,         # Maximum wait time between retries (default is 60s)\n",
        "    exception_types=(Exception,)  # Types of exceptions to retry on\n",
        ")\n",
        "\n",
        "# Initialize the generator with the LLM and embedding model\n",
        "generator_llm = LangchainLLMWrapper(grok)\n",
        "generator_embeddings = LangchainEmbeddingsWrapper(HuggingFaceEmbeddings(model_name=\"Snowflake/snowflake-arctic-embed-l\"))\n",
        "\n",
        "# Set the run config for both LLM and embeddings\n",
        "generator_llm.set_run_config(my_run_config)\n",
        "generator_embeddings.set_run_config(my_run_config)\n",
        "\n",
        "generator = TestsetGenerator(llm=generator_llm, embedding_model=generator_embeddings)\n",
        "\n",
        "# Use the run_config in your generate call\n",
        "dataset = generator.generate_with_langchain_docs(\n",
        "    documents=documents, \n",
        "    testset_size=10,\n",
        "    run_config=my_run_config\n",
        ")\n",
        "# Save the testset to a CSV file\n",
        "dataset.to_pandas().to_csv(\"testset.csv\", index=False)"
      ]
    },
    {
      "cell_type": "markdown",
      "metadata": {},
      "source": [
        "## Upload LangSmith DataSet"
      ]
    },
    {
      "cell_type": "code",
      "execution_count": 49,
      "metadata": {},
      "outputs": [
        {
          "name": "stdout",
          "output_type": "stream",
          "text": [
            "Created a new dataset 'Retrieval Evaulation - John Wick'. Dataset is accessible at https://smith.langchain.com/o/e106fdae-1163-4ad0-b46b-09a4850df972/datasets/738cb06d-ba41-46b9-a772-a11e2e7bda4b\n"
          ]
        },
        {
          "data": {
            "text/plain": [
              "Dataset(name='Retrieval Evaulation - John Wick', description='A test set of John Wick reviews', data_type=<DataType.kv: 'kv'>, id=UUID('738cb06d-ba41-46b9-a772-a11e2e7bda4b'), created_at=datetime.datetime(2025, 5, 18, 20, 40, 17, 275857, tzinfo=datetime.timezone.utc), modified_at=datetime.datetime(2025, 5, 18, 20, 40, 17, 275857, tzinfo=datetime.timezone.utc), example_count=0, session_count=0, last_session_start_time=None, inputs_schema=None, outputs_schema=None, transformations=None)"
            ]
          },
          "execution_count": 49,
          "metadata": {},
          "output_type": "execute_result"
        }
      ],
      "source": [
        "# from ragas.integrations.langsmith import upload_dataset\n",
        "\n",
        "from __future__ import annotations\n",
        "import pandas as pd\n",
        "import ast\n",
        "\n",
        "import typing as t\n",
        "\n",
        "from langchain.smith import RunEvalConfig\n",
        "\n",
        "from ragas.integrations.langchain import EvaluatorChain\n",
        "\n",
        "if t.TYPE_CHECKING:\n",
        "    from langsmith.schemas import Dataset as LangsmithDataset\n",
        "\n",
        "    from ragas.testset import Testset\n",
        "\n",
        "try:\n",
        "    from langsmith import Client\n",
        "    from langsmith.utils import LangSmithNotFoundError\n",
        "except ImportError:\n",
        "    raise ImportError(\n",
        "        \"Please install langsmith to use this feature. You can install it via pip install langsmith\"\n",
        "    )\n",
        "\n",
        "\n",
        "def upload_dataset(\n",
        "    dataset: pd.DataFrame, dataset_name: str, dataset_desc: str = \"\"\n",
        ") -> LangsmithDataset:\n",
        "    \"\"\"\n",
        "    Uploads a new dataset to LangSmith, converting it from a TestDataset object to a\n",
        "    pandas DataFrame before upload. If a dataset with the specified name already\n",
        "    exists, the function raises an error.\n",
        "\n",
        "    Parameters\n",
        "    ----------\n",
        "    dataset : TestDataset\n",
        "        The dataset to be uploaded.\n",
        "    dataset_name : str\n",
        "        The name for the new dataset in LangSmith.\n",
        "    dataset_desc : str, optional\n",
        "        A description for the new dataset. The default is an empty string.\n",
        "\n",
        "    Returns\n",
        "    -------\n",
        "    LangsmithDataset\n",
        "        The dataset object as stored in LangSmith after upload.\n",
        "\n",
        "    Raises\n",
        "    ------\n",
        "    ValueError\n",
        "        If a dataset with the specified name already exists in LangSmith.\n",
        "\n",
        "    Notes\n",
        "    -----\n",
        "    The function attempts to read a dataset by the given name to check its existence.\n",
        "    If not found, it proceeds to upload the dataset after converting it to a pandas\n",
        "    DataFrame. This involves specifying input and output keys for the dataset being\n",
        "    uploaded.\n",
        "    \"\"\"\n",
        "    client = Client()\n",
        "    try:\n",
        "        # check if dataset exists\n",
        "        langsmith_dataset: LangsmithDataset = client.read_dataset(\n",
        "            dataset_name=dataset_name\n",
        "        )\n",
        "        raise ValueError(\n",
        "            f\"Dataset {dataset_name} already exists in langsmith. [{langsmith_dataset}]\"\n",
        "        )\n",
        "    except LangSmithNotFoundError:\n",
        "        # if not create a new one with the generated query examples\n",
        "        langsmith_dataset: LangsmithDataset = client.upload_dataframe(\n",
        "            df=dataset,\n",
        "            name=dataset_name,\n",
        "            input_keys=[\"question\"],\n",
        "            output_keys=[\"ground_truth\"],\n",
        "            #metadata_keys=[\"context\"],\n",
        "            description=dataset_desc,\n",
        "        )\n",
        "\n",
        "        print(\n",
        "            f\"Created a new dataset '{langsmith_dataset.name}'. Dataset is accessible at {langsmith_dataset.url}\"\n",
        "        )\n",
        "        return langsmith_dataset\n",
        "    \n",
        "# Load the test set from a CSV file\n",
        "\n",
        "df = pd.read_csv(\"testset.csv\")\n",
        "# Convert string representations of lists to actual Python lists\n",
        "df['reference_contexts'] = df['reference_contexts'].apply(ast.literal_eval)\n",
        "# set columns to question, context, ground_truth\n",
        "df = df.rename(columns={\n",
        "    'user_input': 'question',\n",
        "    'reference_contexts': 'context',\n",
        "    'reference': 'ground_truth'\n",
        "})\n",
        "\n",
        "upload_dataset(\n",
        "    dataset=df,\n",
        "    dataset_name=dataset_name,\n",
        "    dataset_desc=\"A test set of John Wick reviews\",\n",
        ")"
      ]
    },
    {
      "cell_type": "markdown",
      "metadata": {},
      "source": [
        "## Run Evaluation"
      ]
    },
    {
      "cell_type": "code",
      "execution_count": null,
      "metadata": {},
      "outputs": [],
      "source": [
        "from ragas.integrations.langsmith import evaluate\n",
        "from ragas.metrics import context_recall, faithfulness, context_precision, answer_relevancy\n",
        "\n",
        "# build the evaluation metrics\n",
        "metrics = [answer_relevancy, context_precision, faithfulness, context_recall]\n",
        "\n",
        "# Create a list of chains to evaluate\n",
        "chain_list = [\n",
        "    (\"Naive Retrieval\", naive_retrieval_chain),\n",
        "    (\"BM25 Retrieval\", bm25_retrieval_chain),\n",
        "    (\"Parent Document Retrieval\", parent_document_retrieval_chain),\n",
        "    (\"Contextual Compression Retrieval\", contextual_compression_retrieval_chain),\n",
        "    (\"Multi-Query Retrieval\", multi_query_retrieval_chain),\n",
        "    (\"Ensemble Retrieval\", ensemble_retrieval_chain),\n",
        "]\n",
        "\n",
        "\n",
        "# Run evaluation on each chain\n",
        "for chain_name, chain in chain_list:\n",
        "    print(f\"Evaluating {chain_name}...\")\n",
        "\n",
        "    evaluate(\n",
        "        dataset_name=dataset_name,\n",
        "        llm_or_chain_factory=chain,\n",
        "        experiment_name=f\"{chain_name}\",\n",
        "        metrics=metrics,\n",
        "    )\n"
      ]
    }
  ],
  "metadata": {
    "colab": {
      "provenance": [],
      "toc_visible": true
    },
    "kernelspec": {
      "display_name": ".venv",
      "language": "python",
      "name": "python3"
    },
    "language_info": {
      "codemirror_mode": {
        "name": "ipython",
        "version": 3
      },
      "file_extension": ".py",
      "mimetype": "text/x-python",
      "name": "python",
      "nbconvert_exporter": "python",
      "pygments_lexer": "ipython3",
      "version": "3.13.2"
    }
  },
  "nbformat": 4,
  "nbformat_minor": 0
}
